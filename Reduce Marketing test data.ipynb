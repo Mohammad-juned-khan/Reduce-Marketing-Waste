{
 "cells": [
  {
   "cell_type": "code",
   "execution_count": 51,
   "id": "million-examination",
   "metadata": {},
   "outputs": [],
   "source": [
    "import pandas as pd\n",
    "import numpy as np"
   ]
  },
  {
   "cell_type": "code",
   "execution_count": 179,
   "id": "artistic-fountain",
   "metadata": {},
   "outputs": [
    {
     "data": {
      "text/html": [
       "<div>\n",
       "<style scoped>\n",
       "    .dataframe tbody tr th:only-of-type {\n",
       "        vertical-align: middle;\n",
       "    }\n",
       "\n",
       "    .dataframe tbody tr th {\n",
       "        vertical-align: top;\n",
       "    }\n",
       "\n",
       "    .dataframe thead th {\n",
       "        text-align: right;\n",
       "    }\n",
       "</style>\n",
       "<table border=\"1\" class=\"dataframe\">\n",
       "  <thead>\n",
       "    <tr style=\"text-align: right;\">\n",
       "      <th></th>\n",
       "      <th>Deal_title</th>\n",
       "      <th>Lead_name</th>\n",
       "      <th>Industry</th>\n",
       "      <th>Deal_value</th>\n",
       "      <th>Weighted_amount</th>\n",
       "      <th>Date_of_creation</th>\n",
       "      <th>Pitch</th>\n",
       "      <th>Contact_no</th>\n",
       "      <th>Lead_revenue</th>\n",
       "      <th>Fund_category</th>\n",
       "      <th>Geography</th>\n",
       "      <th>Location</th>\n",
       "      <th>POC_name</th>\n",
       "      <th>Designation</th>\n",
       "      <th>Lead_POC_email</th>\n",
       "      <th>Hiring_candidate_role</th>\n",
       "      <th>Lead_source</th>\n",
       "      <th>Level_of_meeting</th>\n",
       "      <th>Last_lead_update</th>\n",
       "      <th>Internal_POC</th>\n",
       "      <th>Resource</th>\n",
       "      <th>Internal_rating</th>\n",
       "    </tr>\n",
       "  </thead>\n",
       "  <tbody>\n",
       "    <tr>\n",
       "      <th>0</th>\n",
       "      <td>TitleAD16O</td>\n",
       "      <td>Bonilla Ltd Inc</td>\n",
       "      <td>Investment Bank/Brokerage</td>\n",
       "      <td>200988$</td>\n",
       "      <td>NaN</td>\n",
       "      <td>2020-04-15</td>\n",
       "      <td>Product_1</td>\n",
       "      <td>167.332.2751x989</td>\n",
       "      <td>100 - 500 Million</td>\n",
       "      <td>Category 4</td>\n",
       "      <td>India</td>\n",
       "      <td>Bhubaneshwar</td>\n",
       "      <td>sonia</td>\n",
       "      <td>Chairman/CEO/President</td>\n",
       "      <td>maureenthomas@bonilla.com</td>\n",
       "      <td>Designer, fashion/clothing</td>\n",
       "      <td>Marketing Event</td>\n",
       "      <td>Level 1</td>\n",
       "      <td>more than a month</td>\n",
       "      <td>Massiah,Gerard F</td>\n",
       "      <td>No</td>\n",
       "      <td>-1.0</td>\n",
       "    </tr>\n",
       "    <tr>\n",
       "      <th>1</th>\n",
       "      <td>TitleOW6CR</td>\n",
       "      <td>Williams, Rogers and Roach PLC</td>\n",
       "      <td>Electronics</td>\n",
       "      <td>409961$</td>\n",
       "      <td>2541758.2$</td>\n",
       "      <td>2021-01-23</td>\n",
       "      <td>Product_1</td>\n",
       "      <td>001-486-903-0711x7831</td>\n",
       "      <td>100 - 500 Million</td>\n",
       "      <td>Category 3</td>\n",
       "      <td>USA</td>\n",
       "      <td>Coeur d'Alene, ID</td>\n",
       "      <td>Daniel Bell</td>\n",
       "      <td>CEO/Co-Founder/Chairman</td>\n",
       "      <td>danielbell@williams.com</td>\n",
       "      <td>Horticultural consultant</td>\n",
       "      <td>Marketing Event</td>\n",
       "      <td>Level 2</td>\n",
       "      <td>Up-to-date</td>\n",
       "      <td>Smith,Keenan H</td>\n",
       "      <td>Yes</td>\n",
       "      <td>1.0</td>\n",
       "    </tr>\n",
       "    <tr>\n",
       "      <th>2</th>\n",
       "      <td>TitleVVJQ5</td>\n",
       "      <td>Wood, Vaughn and Morales Ltd</td>\n",
       "      <td>Banks</td>\n",
       "      <td>434433$</td>\n",
       "      <td>3041031.0$</td>\n",
       "      <td>2020-07-19</td>\n",
       "      <td>Product_1</td>\n",
       "      <td>(393)104-2610x9723</td>\n",
       "      <td>100 - 500 Million</td>\n",
       "      <td>Category 1</td>\n",
       "      <td>USA</td>\n",
       "      <td>Portland-South Portland, ME</td>\n",
       "      <td>Andrew Davis</td>\n",
       "      <td>Chairman/Chief Innovation Officer</td>\n",
       "      <td>andrewdavis@wood.com</td>\n",
       "      <td>Information officer</td>\n",
       "      <td>Marketing Event</td>\n",
       "      <td>Level 2</td>\n",
       "      <td>Did not hear back after Level 1</td>\n",
       "      <td>Gilley,Janine</td>\n",
       "      <td>Deliverable</td>\n",
       "      <td>5.0</td>\n",
       "    </tr>\n",
       "    <tr>\n",
       "      <th>3</th>\n",
       "      <td>TitleUS8NA</td>\n",
       "      <td>Durham-Crawford Inc</td>\n",
       "      <td>Music</td>\n",
       "      <td>218952$</td>\n",
       "      <td>1521716.4$</td>\n",
       "      <td>2020-02-27</td>\n",
       "      <td>Product_2</td>\n",
       "      <td>(817)040-4599</td>\n",
       "      <td>100 - 500 Million</td>\n",
       "      <td>Category 1</td>\n",
       "      <td>India</td>\n",
       "      <td>Bareilly</td>\n",
       "      <td>shital</td>\n",
       "      <td>CEO/Chairman/President</td>\n",
       "      <td>charlesrivera@durhamcrawford.com</td>\n",
       "      <td>Commercial/residential surveyor</td>\n",
       "      <td>Contact Email</td>\n",
       "      <td>Level 3</td>\n",
       "      <td>more than a month</td>\n",
       "      <td>Morsy,Omar A</td>\n",
       "      <td>No</td>\n",
       "      <td>5.0</td>\n",
       "    </tr>\n",
       "    <tr>\n",
       "      <th>4</th>\n",
       "      <td>Title5VGWW</td>\n",
       "      <td>Simpson, Duncan and Long LLC</td>\n",
       "      <td>Real Estate</td>\n",
       "      <td>392835$</td>\n",
       "      <td>2455218.75$</td>\n",
       "      <td>2020-10-25</td>\n",
       "      <td>Product_1</td>\n",
       "      <td>718-032-5726x76098</td>\n",
       "      <td>500 Million - 1 Billion</td>\n",
       "      <td>Category 3</td>\n",
       "      <td>USA</td>\n",
       "      <td>Trenton, NJ</td>\n",
       "      <td>Shelly Stephenson</td>\n",
       "      <td>CEO/Co-Founder/Chairman</td>\n",
       "      <td>shellystephenson@simpson.com</td>\n",
       "      <td>Wellsite geologist</td>\n",
       "      <td>Others</td>\n",
       "      <td>Level 3</td>\n",
       "      <td>More than 2 weeks</td>\n",
       "      <td>Morsy,Omar A</td>\n",
       "      <td>Deliverable</td>\n",
       "      <td>2.0</td>\n",
       "    </tr>\n",
       "  </tbody>\n",
       "</table>\n",
       "</div>"
      ],
      "text/plain": [
       "   Deal_title                       Lead_name                   Industry  \\\n",
       "0  TitleAD16O                 Bonilla Ltd Inc  Investment Bank/Brokerage   \n",
       "1  TitleOW6CR  Williams, Rogers and Roach PLC                Electronics   \n",
       "2  TitleVVJQ5    Wood, Vaughn and Morales Ltd                      Banks   \n",
       "3  TitleUS8NA             Durham-Crawford Inc                      Music   \n",
       "4  Title5VGWW    Simpson, Duncan and Long LLC                Real Estate   \n",
       "\n",
       "  Deal_value Weighted_amount Date_of_creation      Pitch  \\\n",
       "0    200988$             NaN       2020-04-15  Product_1   \n",
       "1    409961$      2541758.2$       2021-01-23  Product_1   \n",
       "2    434433$      3041031.0$       2020-07-19  Product_1   \n",
       "3    218952$      1521716.4$       2020-02-27  Product_2   \n",
       "4    392835$     2455218.75$       2020-10-25  Product_1   \n",
       "\n",
       "              Contact_no             Lead_revenue Fund_category Geography  \\\n",
       "0       167.332.2751x989        100 - 500 Million    Category 4     India   \n",
       "1  001-486-903-0711x7831        100 - 500 Million    Category 3       USA   \n",
       "2     (393)104-2610x9723        100 - 500 Million    Category 1       USA   \n",
       "3          (817)040-4599        100 - 500 Million    Category 1     India   \n",
       "4     718-032-5726x76098  500 Million - 1 Billion    Category 3       USA   \n",
       "\n",
       "                      Location           POC_name  \\\n",
       "0                 Bhubaneshwar              sonia   \n",
       "1            Coeur d'Alene, ID        Daniel Bell   \n",
       "2  Portland-South Portland, ME       Andrew Davis   \n",
       "3                     Bareilly             shital   \n",
       "4                  Trenton, NJ  Shelly Stephenson   \n",
       "\n",
       "                         Designation                    Lead_POC_email  \\\n",
       "0             Chairman/CEO/President         maureenthomas@bonilla.com   \n",
       "1            CEO/Co-Founder/Chairman           danielbell@williams.com   \n",
       "2  Chairman/Chief Innovation Officer              andrewdavis@wood.com   \n",
       "3             CEO/Chairman/President  charlesrivera@durhamcrawford.com   \n",
       "4            CEO/Co-Founder/Chairman      shellystephenson@simpson.com   \n",
       "\n",
       "             Hiring_candidate_role      Lead_source Level_of_meeting  \\\n",
       "0       Designer, fashion/clothing  Marketing Event          Level 1   \n",
       "1         Horticultural consultant  Marketing Event          Level 2   \n",
       "2              Information officer  Marketing Event          Level 2   \n",
       "3  Commercial/residential surveyor    Contact Email          Level 3   \n",
       "4               Wellsite geologist           Others          Level 3   \n",
       "\n",
       "                  Last_lead_update      Internal_POC     Resource  \\\n",
       "0                more than a month  Massiah,Gerard F           No   \n",
       "1                       Up-to-date    Smith,Keenan H          Yes   \n",
       "2  Did not hear back after Level 1     Gilley,Janine  Deliverable   \n",
       "3                more than a month      Morsy,Omar A           No   \n",
       "4                More than 2 weeks      Morsy,Omar A  Deliverable   \n",
       "\n",
       "   Internal_rating  \n",
       "0             -1.0  \n",
       "1              1.0  \n",
       "2              5.0  \n",
       "3              5.0  \n",
       "4              2.0  "
      ]
     },
     "execution_count": 179,
     "metadata": {},
     "output_type": "execute_result"
    }
   ],
   "source": [
    "data=pd.read_csv(\"test.csv\")\n",
    "data.head()"
   ]
  },
  {
   "cell_type": "code",
   "execution_count": 180,
   "id": "postal-victim",
   "metadata": {},
   "outputs": [
    {
     "name": "stdout",
     "output_type": "stream",
     "text": [
      "Shape of our data set  (2093, 22)\n"
     ]
    }
   ],
   "source": [
    "print(\"Shape of our data set \",data.shape)"
   ]
  },
  {
   "cell_type": "code",
   "execution_count": 181,
   "id": "fifty-horse",
   "metadata": {},
   "outputs": [
    {
     "data": {
      "text/plain": [
       "Deal_title                object\n",
       "Lead_name                 object\n",
       "Industry                  object\n",
       "Deal_value                object\n",
       "Weighted_amount           object\n",
       "Date_of_creation          object\n",
       "Pitch                     object\n",
       "Contact_no                object\n",
       "Lead_revenue              object\n",
       "Fund_category             object\n",
       "Geography                 object\n",
       "Location                  object\n",
       "POC_name                  object\n",
       "Designation               object\n",
       "Lead_POC_email            object\n",
       "Hiring_candidate_role     object\n",
       "Lead_source               object\n",
       "Level_of_meeting          object\n",
       "Last_lead_update          object\n",
       "Internal_POC              object\n",
       "Resource                  object\n",
       "Internal_rating          float64\n",
       "dtype: object"
      ]
     },
     "execution_count": 181,
     "metadata": {},
     "output_type": "execute_result"
    }
   ],
   "source": [
    "#check data type of all the coulmns\n",
    "data.dtypes"
   ]
  },
  {
   "cell_type": "code",
   "execution_count": 182,
   "id": "knowing-organ",
   "metadata": {},
   "outputs": [
    {
     "data": {
      "text/plain": [
       "Deal_title                 0\n",
       "Lead_name                  0\n",
       "Industry                   1\n",
       "Deal_value                 5\n",
       "Weighted_amount           60\n",
       "Date_of_creation           0\n",
       "Pitch                      0\n",
       "Contact_no                 0\n",
       "Lead_revenue               0\n",
       "Fund_category              0\n",
       "Geography                 79\n",
       "Location                   3\n",
       "POC_name                   2\n",
       "Designation                0\n",
       "Lead_POC_email             0\n",
       "Hiring_candidate_role      0\n",
       "Lead_source                0\n",
       "Level_of_meeting           0\n",
       "Last_lead_update         168\n",
       "Internal_POC               0\n",
       "Resource                  14\n",
       "Internal_rating            0\n",
       "dtype: int64"
      ]
     },
     "execution_count": 182,
     "metadata": {},
     "output_type": "execute_result"
    }
   ],
   "source": [
    "# all the columns expect few are in object form. Need to perform type casting for required columns\n",
    "#check for the missing values \n",
    "data.isnull().sum()"
   ]
  },
  {
   "cell_type": "raw",
   "id": "positive-yugoslavia",
   "metadata": {},
   "source": [
    "There are lots of missing values in the data set we need to perform feature engineering.\n",
    "Features with missing values :- \n",
    "Industry                   1\n",
    "Deal_value                 5\n",
    "Weighted_amount           60\n",
    "Geography                 79\n",
    "Location                   3\n",
    "POC_name                   2\n",
    "Last_lead_update         168\n",
    "Resource                  14"
   ]
  },
  {
   "cell_type": "code",
   "execution_count": null,
   "id": "entire-cuisine",
   "metadata": {},
   "outputs": [],
   "source": [
    "# Lets start exploratory data analysis "
   ]
  },
  {
   "cell_type": "raw",
   "id": "recorded-terry",
   "metadata": {},
   "source": [
    "Data Description\n",
    "Deal_title = Represents a unique title for each deal\n",
    "Lead_name  = Represents the name of a lead\n",
    "Industry   = Represents the industry that a lead belongs to\n",
    "Deal_value = Represents the value of a deal between a lead and your company (in Dollars)\n",
    "Weighted_amount = Represents a value that is estimated revenue times a probability\n",
    "Date_of_creation = Represents the date when a deal's pipeline was created\n",
    "Pitch = Represents the different types of products that your company offers to a lead\n",
    "Contact_no = Represents the contact details of a lead (masked)\n",
    "Lead_revenue = Represents the lead company's revenue (in Dollars)\n",
    "Fund_category = Represents the type of funding that a lead possesses\n",
    "Geography = Represents the geographical location of a lead (country)\n",
    "Location = Represents the geographical location of a lead (state or city)\n",
    "POC_name =  Represents the lead's point of contact's name\n",
    "Designation = Represents the lead POC's designation\n",
    "Lead_POC_email = Represents the lead POC's email address\n",
    "Hiring_candidate_role = Represents the job role that a lead wants to hire\n",
    "Lead_source = Represents the source from which the lead is generated\n",
    "Level_of_meeting = Represents the level of a meeting with the lead.\n",
    "                        Level 1: Introductory call\n",
    "                        Level 2: Demo call\n",
    "                        Level 3: Pre-sales call\n",
    "Last_lead_update = Represents the communication update between a lead and your company\n",
    "Internal_POC = Represents the name of the employee who has generated the lead\n",
    "Resource = Represents whether your company has enough resources to satisfy a lead's requirements\n",
    "Internal_rating = Represents a rating (1-5) given to a lead\n",
    "Success_probability = Represents the probability that a lead will buy a product or onboard"
   ]
  },
  {
   "cell_type": "markdown",
   "id": "cordless-repeat",
   "metadata": {},
   "source": [
    "# set deal title as index"
   ]
  },
  {
   "cell_type": "code",
   "execution_count": 183,
   "id": "frozen-chain",
   "metadata": {},
   "outputs": [
    {
     "data": {
      "text/plain": [
       "Harris-Lucas and Sons          1\n",
       "Wright-Thomas PLC              1\n",
       "Wright Group LLC               1\n",
       "Perez, Butler and Lewis LLC    1\n",
       "Hunt Inc Group                 1\n",
       "                              ..\n",
       "Simon LLC LLC                  1\n",
       "Morgan-Lopez and Sons          1\n",
       "Parker PLC Ltd                 1\n",
       "Wells PLC LLC                  1\n",
       "Brewer-Bryant Inc              1\n",
       "Name: Lead_name, Length: 2093, dtype: int64"
      ]
     },
     "execution_count": 183,
     "metadata": {},
     "output_type": "execute_result"
    }
   ],
   "source": [
    "# Deal title we will use as index\n",
    "#now lets check the Lead Name \n",
    "data.Lead_name.value_counts()"
   ]
  },
  {
   "cell_type": "code",
   "execution_count": 184,
   "id": "defined-exhibit",
   "metadata": {},
   "outputs": [
    {
     "data": {
      "text/plain": [
       "(2093,)"
      ]
     },
     "execution_count": 184,
     "metadata": {},
     "output_type": "execute_result"
    }
   ],
   "source": [
    "data.Lead_name.unique().shape\n",
    "#lead name consist of all unique values "
   ]
  },
  {
   "cell_type": "code",
   "execution_count": 185,
   "id": "received-mileage",
   "metadata": {},
   "outputs": [
    {
     "data": {
      "text/plain": [
       "Banks                          462\n",
       "Insurance                      160\n",
       "Financial Services              98\n",
       "Real Estate                     68\n",
       "Investment Bank/Brokerage       62\n",
       "                              ... \n",
       "Multimedia Software              1\n",
       "Beverages (Non-Alcoholic)        1\n",
       "Conglomerates                    1\n",
       "Vitamins/Nutritionals/Other      1\n",
       "Supply Chain                     1\n",
       "Name: Industry, Length: 138, dtype: int64"
      ]
     },
     "execution_count": 185,
     "metadata": {},
     "output_type": "execute_result"
    }
   ],
   "source": [
    "data.Industry.value_counts()\n",
    "#Industry is a categorical Feature which can be consiered as an important feature"
   ]
  },
  {
   "cell_type": "code",
   "execution_count": 186,
   "id": "hispanic-viewer",
   "metadata": {},
   "outputs": [
    {
     "name": "stdout",
     "output_type": "stream",
     "text": [
      "Unique values in industry  (139,)\n",
      "Missing value in industries 1\n",
      "Data type of unique value : object\n"
     ]
    }
   ],
   "source": [
    "print(\"Unique values in industry \",data.Industry.unique().shape)\n",
    "print(\"Missing value in industries\", data.Industry.isnull().sum())\n",
    "print(\"Data type of unique value :\", data.Industry.dtype)"
   ]
  },
  {
   "cell_type": "code",
   "execution_count": 187,
   "id": "realistic-convertible",
   "metadata": {},
   "outputs": [],
   "source": [
    "#Task - Replace the missing value with mode of Industry (Bank).\n",
    "data[\"Industry\"] = data[\"Industry\"].fillna((data[\"Industry\"].mode()[0]))"
   ]
  },
  {
   "cell_type": "code",
   "execution_count": 188,
   "id": "metallic-oregon",
   "metadata": {},
   "outputs": [
    {
     "name": "stdout",
     "output_type": "stream",
     "text": [
      "Unique values in Deal_value  (2084,)\n",
      "Missing value in Deal_value 5\n",
      "Data type of Deal_value : object\n"
     ]
    }
   ],
   "source": [
    "# Deal Value\n",
    "print(\"Unique values in Deal_value \",data.Deal_value.unique().shape)\n",
    "print(\"Missing value in Deal_value\", data.Deal_value.isnull().sum())\n",
    "print(\"Data type of Deal_value :\", data.Deal_value.dtype)"
   ]
  },
  {
   "cell_type": "code",
   "execution_count": 189,
   "id": "sublime-credits",
   "metadata": {},
   "outputs": [
    {
     "data": {
      "text/plain": [
       "0    200988$\n",
       "1    409961$\n",
       "2    434433$\n",
       "3    218952$\n",
       "4    392835$\n",
       "Name: Deal_value, dtype: object"
      ]
     },
     "execution_count": 189,
     "metadata": {},
     "output_type": "execute_result"
    }
   ],
   "source": [
    "data[\"Deal_value\"].head()"
   ]
  },
  {
   "cell_type": "code",
   "execution_count": 190,
   "id": "historic-fields",
   "metadata": {},
   "outputs": [
    {
     "name": "stderr",
     "output_type": "stream",
     "text": [
      "<ipython-input-190-753f5ed282b4>:4: FutureWarning: The default value of regex will change from True to False in a future version. In addition, single character regular expressions will*not* be treated as literal strings when regex=True.\n",
      "  data[\"Deal_value\"] = data[\"Deal_value\"].str.replace(\"$\",\"\")\n"
     ]
    },
    {
     "data": {
      "text/plain": [
       "0    200988.0\n",
       "1    409961.0\n",
       "2    434433.0\n",
       "3    218952.0\n",
       "4    392835.0\n",
       "Name: Deal_value, dtype: float64"
      ]
     },
     "execution_count": 190,
     "metadata": {},
     "output_type": "execute_result"
    }
   ],
   "source": [
    "#Task 1- its clear that we have to remove the $ sign from the value and convert it into a numerical Valiable. Fill out missing value with mean of the column\n",
    "#we can also create extra feature from this deal value like range 0 to 50, 51 to 100, 100 to 150, 150 to 200\n",
    "#deal value is an important feature to consider\n",
    "data[\"Deal_value\"] = data[\"Deal_value\"].str.replace(\"$\",\"\")\n",
    "#converting Deal_Value to numeric\n",
    "data[\"Deal_value\"] = pd.to_numeric(data[\"Deal_value\"])\n",
    "data[\"Deal_value\"].head()"
   ]
  },
  {
   "cell_type": "code",
   "execution_count": 191,
   "id": "sustained-warrant",
   "metadata": {},
   "outputs": [],
   "source": [
    "#imputing missing value in Deal_value\n",
    "data[\"Deal_value\"] = data[\"Deal_value\"].fillna(data[\"Deal_value\"].mean())"
   ]
  },
  {
   "cell_type": "code",
   "execution_count": 192,
   "id": "small-being",
   "metadata": {},
   "outputs": [
    {
     "name": "stdout",
     "output_type": "stream",
     "text": [
      "Unique values in Weighted_amount  (2034,)\n",
      "Missing value in Weighted_amount  60\n",
      "Data type of Weighted_amount :  object\n"
     ]
    },
    {
     "data": {
      "text/plain": [
       "0            NaN\n",
       "1     2541758.2$\n",
       "2     3041031.0$\n",
       "3     1521716.4$\n",
       "4    2455218.75$\n",
       "Name: Weighted_amount, dtype: object"
      ]
     },
     "execution_count": 192,
     "metadata": {},
     "output_type": "execute_result"
    }
   ],
   "source": [
    "# next feature is Weighted_amount\n",
    "print(\"Unique values in Weighted_amount \",data.Weighted_amount.unique().shape)\n",
    "print(\"Missing value in Weighted_amount \", data.Weighted_amount.isnull().sum())\n",
    "print(\"Data type of Weighted_amount : \", data.Weighted_amount.dtype)\n",
    "data.Weighted_amount.head()"
   ]
  },
  {
   "cell_type": "code",
   "execution_count": 193,
   "id": "satisfied-sunglasses",
   "metadata": {},
   "outputs": [
    {
     "name": "stderr",
     "output_type": "stream",
     "text": [
      "<ipython-input-193-0dfdc1962e59>:8: FutureWarning: The default value of regex will change from True to False in a future version. In addition, single character regular expressions will*not* be treated as literal strings when regex=True.\n",
      "  data[\"Weighted_amount\"]= data[\"Weighted_amount\"].str.replace(\"$\",\"\")\n"
     ]
    }
   ],
   "source": [
    "##Task 2- The Weighted_amount column consist of over 500 missing values , \n",
    "#we can either use Iterative Imputation to fill out missing values using deal value as an independent variable and \n",
    "#Weighted_amount as dependent variable (using a simple linear regression model)  . \n",
    "#or if the feature is less important then we will drop this . and we also have to remove $ sign from end.\n",
    "\n",
    "# removing the $ sign##\n",
    "\n",
    "data[\"Weighted_amount\"]= data[\"Weighted_amount\"].str.replace(\"$\",\"\")\n",
    "# now conver the Weighted_amount to numeric and then impute missing values using mean()\n",
    "#converting Weighted_amount to numeric\n",
    "data[\"Weighted_amount\"] = pd.to_numeric(data[\"Weighted_amount\"])\n",
    "data[\"Weighted_amount\"] = data[\"Weighted_amount\"].fillna(data[\"Weighted_amount\"].mean())"
   ]
  },
  {
   "cell_type": "code",
   "execution_count": 194,
   "id": "seeing-fight",
   "metadata": {},
   "outputs": [
    {
     "name": "stdout",
     "output_type": "stream",
     "text": [
      "Unique values in Date_of_creation  (720,)\n",
      "Missing value in Date_of_creation  0\n",
      "Data type of Date_of_creation :  object\n"
     ]
    },
    {
     "data": {
      "text/plain": [
       "0    2020-04-15\n",
       "1    2021-01-23\n",
       "2    2020-07-19\n",
       "3    2020-02-27\n",
       "4    2020-10-25\n",
       "Name: Date_of_creation, dtype: object"
      ]
     },
     "execution_count": 194,
     "metadata": {},
     "output_type": "execute_result"
    }
   ],
   "source": [
    "#Date of Creation Represents the date when a deal's pipeline was created.\n",
    "# next feature is Date_of_creation\n",
    "print(\"Unique values in Date_of_creation \", data.Date_of_creation.unique().shape)\n",
    "print(\"Missing value in Date_of_creation \", data.Date_of_creation.isnull().sum())\n",
    "print(\"Data type of Date_of_creation : \", data.Date_of_creation.dtype)\n",
    "data.Date_of_creation.head()"
   ]
  },
  {
   "cell_type": "code",
   "execution_count": 195,
   "id": "disciplinary-turkish",
   "metadata": {},
   "outputs": [
    {
     "data": {
      "text/plain": [
       "dtype('<M8[ns]')"
      ]
     },
     "execution_count": 195,
     "metadata": {},
     "output_type": "execute_result"
    }
   ],
   "source": [
    "#Task 3- Change the data type of Date_of_creation. There are no missing values.\n",
    "#converting the Date_of_creation to date time\n",
    "data[\"Date_of_creation\"] = pd.to_datetime(data[\"Date_of_creation\"])\n",
    "data.Date_of_creation.dtype"
   ]
  },
  {
   "cell_type": "code",
   "execution_count": 196,
   "id": "verbal-behalf",
   "metadata": {},
   "outputs": [
    {
     "name": "stdout",
     "output_type": "stream",
     "text": [
      "Unique values in Pitch  (2,)\n",
      "Missing value in Pitch  0\n",
      "Data type of Pitch :  object\n"
     ]
    },
    {
     "data": {
      "text/plain": [
       "0    Product_1\n",
       "1    Product_1\n",
       "2    Product_1\n",
       "3    Product_2\n",
       "4    Product_1\n",
       "Name: Pitch, dtype: object"
      ]
     },
     "execution_count": 196,
     "metadata": {},
     "output_type": "execute_result"
    }
   ],
   "source": [
    "#Pitch = Represents the different types of products that your company offers to a lead\n",
    "print(\"Unique values in Pitch \", data.Pitch.unique().shape)\n",
    "print(\"Missing value in Pitch \", data.Pitch.isnull().sum())\n",
    "print(\"Data type of Pitch : \", data.Pitch.dtype)\n",
    "data.Pitch.head()"
   ]
  },
  {
   "cell_type": "raw",
   "id": "joined-alabama",
   "metadata": {},
   "source": [
    "Pitch is a categorical feature with only two products.(Product_2 , Product_1)\n",
    "Task 4 -  Encode the categorical values using label encoding at the end."
   ]
  },
  {
   "cell_type": "code",
   "execution_count": 197,
   "id": "respected-protein",
   "metadata": {},
   "outputs": [
    {
     "name": "stdout",
     "output_type": "stream",
     "text": [
      "Unique values in Contact_no  (2093,)\n",
      "Missing value in Contact_no  0\n",
      "Data type of Contact_no :  object\n"
     ]
    },
    {
     "data": {
      "text/plain": [
       "0         167.332.2751x989\n",
       "1    001-486-903-0711x7831\n",
       "2       (393)104-2610x9723\n",
       "3            (817)040-4599\n",
       "4       718-032-5726x76098\n",
       "Name: Contact_no, dtype: object"
      ]
     },
     "execution_count": 197,
     "metadata": {},
     "output_type": "execute_result"
    }
   ],
   "source": [
    "#Contact_no = Represents the contact details of a lead (masked)\n",
    "print(\"Unique values in Contact_no \", data.Contact_no.unique().shape)\n",
    "print(\"Missing value in Contact_no \", data.Contact_no.isnull().sum())\n",
    "print(\"Data type of Contact_no : \", data.Contact_no.dtype)\n",
    "data.Contact_no.head()"
   ]
  },
  {
   "cell_type": "code",
   "execution_count": 198,
   "id": "criminal-token",
   "metadata": {},
   "outputs": [
    {
     "name": "stdout",
     "output_type": "stream",
     "text": [
      "Unique values in Lead_revenue  (3,)\n",
      "Missing value in Lead_revenue  0\n",
      "Data type of Lead_revenue :  object\n"
     ]
    },
    {
     "data": {
      "text/plain": [
       "0          100 - 500 Million\n",
       "1          100 - 500 Million\n",
       "2          100 - 500 Million\n",
       "3          100 - 500 Million\n",
       "4    500 Million - 1 Billion\n",
       "Name: Lead_revenue, dtype: object"
      ]
     },
     "execution_count": 198,
     "metadata": {},
     "output_type": "execute_result"
    }
   ],
   "source": [
    "# Contact number is not very useful for our analysis so we will drop it at the end \n",
    "#next variable \n",
    "#Lead_revenue = Represents the lead company's revenue (in Dollars)\n",
    "data.Lead_revenue.unique()\n",
    "print(\"Unique values in Lead_revenue \", data.Lead_revenue.unique().shape)\n",
    "print(\"Missing value in Lead_revenue \", data.Lead_revenue.isnull().sum())\n",
    "print(\"Data type of Lead_revenue : \", data.Lead_revenue.dtype)\n",
    "data.Lead_revenue.head()"
   ]
  },
  {
   "cell_type": "markdown",
   "id": "republican-occupation",
   "metadata": {},
   "source": [
    "Task 5 - Encode Lead_revenue at the end. "
   ]
  },
  {
   "cell_type": "code",
   "execution_count": 199,
   "id": "elect-chemistry",
   "metadata": {},
   "outputs": [
    {
     "name": "stdout",
     "output_type": "stream",
     "text": [
      "Unique values in Fund_category  (4,)\n",
      "Missing value in Fund_category  0\n",
      "Data type of Fund_category :  object\n"
     ]
    },
    {
     "data": {
      "text/plain": [
       "0    Category 4\n",
       "1    Category 3\n",
       "2    Category 1\n",
       "3    Category 1\n",
       "4    Category 3\n",
       "Name: Fund_category, dtype: object"
      ]
     },
     "execution_count": 199,
     "metadata": {},
     "output_type": "execute_result"
    }
   ],
   "source": [
    "#Fund_category = Represents the type of funding that a lead possesses\n",
    "data.Fund_category.unique()\n",
    "print(\"Unique values in Fund_category \", data.Fund_category.unique().shape)\n",
    "print(\"Missing value in Fund_category \", data.Fund_category.isnull().sum())\n",
    "print(\"Data type of Fund_category : \", data.Fund_category.dtype)\n",
    "data.Fund_category.head()"
   ]
  },
  {
   "cell_type": "code",
   "execution_count": 201,
   "id": "infrared-nature",
   "metadata": {},
   "outputs": [],
   "source": [
    "#Task 5- Encode Fund_category as it has five categories."
   ]
  },
  {
   "cell_type": "code",
   "execution_count": 202,
   "id": "fitting-victoria",
   "metadata": {},
   "outputs": [],
   "source": [
    "#to get all columns\n",
    "pd.set_option(\"display.max_columns\",25)"
   ]
  },
  {
   "cell_type": "code",
   "execution_count": 203,
   "id": "macro-brave",
   "metadata": {},
   "outputs": [
    {
     "name": "stdout",
     "output_type": "stream",
     "text": [
      "['India' 'USA' nan]\n",
      "Unique values in Geography  (3,)\n",
      "Missing value in Geography  79\n",
      "Data type of Geography :  object\n",
      "Value count Geography :  India    1012\n",
      "USA      1002\n",
      "Name: Geography, dtype: int64\n"
     ]
    },
    {
     "data": {
      "text/plain": [
       "0    India\n",
       "1      USA\n",
       "2      USA\n",
       "3    India\n",
       "4      USA\n",
       "Name: Geography, dtype: object"
      ]
     },
     "execution_count": 203,
     "metadata": {},
     "output_type": "execute_result"
    }
   ],
   "source": [
    "#Geography = Represents the geographical location of a lead (country)\n",
    "print(data.Geography.unique())\n",
    "print(\"Unique values in Geography \", data.Geography.unique().shape)\n",
    "print(\"Missing value in Geography \", data.Geography.isnull().sum())\n",
    "print(\"Data type of Geography : \", data.Geography.dtype)\n",
    "print(\"Value count Geography : \", data.Geography.value_counts())\n",
    "data.Geography.head()"
   ]
  },
  {
   "cell_type": "code",
   "execution_count": 204,
   "id": "every-sacrifice",
   "metadata": {},
   "outputs": [],
   "source": [
    "#We have two category India and USA. Most commoun value is India 1012. \n",
    "#Task 6- We will replace missing values with India or check it from location\n",
    "#we will replace the geopgraphy value by mode \n",
    "data[\"Geography\"] = data[\"Geography\"].fillna((data[\"Geography\"].mode()[0]))"
   ]
  },
  {
   "cell_type": "code",
   "execution_count": 205,
   "id": "mathematical-consumer",
   "metadata": {},
   "outputs": [
    {
     "name": "stdout",
     "output_type": "stream",
     "text": [
      "Unique values in Location  (566,)\n",
      "Missing value in Location  3\n",
      "Data type of Location :  object\n",
      "Value count Location :  Moradabad                       12\n",
      "Dibrugarh                       11\n",
      "Jodhpur                         10\n",
      "Bhiwandi                        10\n",
      "Proddatur                       10\n",
      "                                ..\n",
      "Elkhart-Goshen, IN               1\n",
      "Lawrence, KS                     1\n",
      "Huntington-Ashland, WV-KY-OH     1\n",
      "Daphne-Fairhope-Foley, AL        1\n",
      "York-Hanover, PA                 1\n",
      "Name: Location, Length: 565, dtype: int64\n"
     ]
    }
   ],
   "source": [
    "#Location = Represents the geographical location of a lead (state or city)\n",
    "#print(data.Location.unique())\n",
    "print(\"Unique values in Location \", data.Location.unique().shape)\n",
    "print(\"Missing value in Location \", data.Location.isnull().sum())\n",
    "print(\"Data type of Location : \", data.Location.dtype)\n",
    "print(\"Value count Location : \", data.Location.value_counts())\n",
    "#data.Location.head()"
   ]
  },
  {
   "cell_type": "code",
   "execution_count": 206,
   "id": "democratic-spirit",
   "metadata": {},
   "outputs": [
    {
     "data": {
      "text/html": [
       "<div>\n",
       "<style scoped>\n",
       "    .dataframe tbody tr th:only-of-type {\n",
       "        vertical-align: middle;\n",
       "    }\n",
       "\n",
       "    .dataframe tbody tr th {\n",
       "        vertical-align: top;\n",
       "    }\n",
       "\n",
       "    .dataframe thead th {\n",
       "        text-align: right;\n",
       "    }\n",
       "</style>\n",
       "<table border=\"1\" class=\"dataframe\">\n",
       "  <thead>\n",
       "    <tr style=\"text-align: right;\">\n",
       "      <th></th>\n",
       "      <th>Deal_title</th>\n",
       "      <th>Lead_name</th>\n",
       "      <th>Industry</th>\n",
       "      <th>Deal_value</th>\n",
       "      <th>Weighted_amount</th>\n",
       "      <th>Date_of_creation</th>\n",
       "      <th>Pitch</th>\n",
       "      <th>Contact_no</th>\n",
       "      <th>Lead_revenue</th>\n",
       "      <th>Fund_category</th>\n",
       "      <th>Geography</th>\n",
       "      <th>Location</th>\n",
       "      <th>POC_name</th>\n",
       "      <th>Designation</th>\n",
       "      <th>Lead_POC_email</th>\n",
       "      <th>Hiring_candidate_role</th>\n",
       "      <th>Lead_source</th>\n",
       "      <th>Level_of_meeting</th>\n",
       "      <th>Last_lead_update</th>\n",
       "      <th>Internal_POC</th>\n",
       "      <th>Resource</th>\n",
       "      <th>Internal_rating</th>\n",
       "    </tr>\n",
       "  </thead>\n",
       "  <tbody>\n",
       "    <tr>\n",
       "      <th>1000</th>\n",
       "      <td>Title4B3IC</td>\n",
       "      <td>Fischer, Walker and Clark Ltd</td>\n",
       "      <td>Hospitals/Clinics</td>\n",
       "      <td>293714.0</td>\n",
       "      <td>1.835712e+06</td>\n",
       "      <td>2020-03-31</td>\n",
       "      <td>Product_2</td>\n",
       "      <td>421.040.4106x16629</td>\n",
       "      <td>50 - 100 Million</td>\n",
       "      <td>Category 1</td>\n",
       "      <td>USA</td>\n",
       "      <td>NaN</td>\n",
       "      <td>James Dean</td>\n",
       "      <td>CEO/Co-Founder/Chairman</td>\n",
       "      <td>jamesdean@fischer.com</td>\n",
       "      <td>Academic librarian</td>\n",
       "      <td>Contact Email</td>\n",
       "      <td>Level 2</td>\n",
       "      <td>5 days back</td>\n",
       "      <td>Mabrey,Kevin C</td>\n",
       "      <td>We have all the requirements</td>\n",
       "      <td>2.0</td>\n",
       "    </tr>\n",
       "    <tr>\n",
       "      <th>1514</th>\n",
       "      <td>Title797F9</td>\n",
       "      <td>Flores, Riley and Mckinney Ltd</td>\n",
       "      <td>Constr/Agric Machinery</td>\n",
       "      <td>264533.0</td>\n",
       "      <td>1.556917e+06</td>\n",
       "      <td>2019-06-23</td>\n",
       "      <td>Product_1</td>\n",
       "      <td>(664)885-6956</td>\n",
       "      <td>50 - 100 Million</td>\n",
       "      <td>Category 1</td>\n",
       "      <td>India</td>\n",
       "      <td>NaN</td>\n",
       "      <td>Randy Ramos</td>\n",
       "      <td>SVP/General Counsel</td>\n",
       "      <td>randyramos@flores.com</td>\n",
       "      <td>Arts administrator</td>\n",
       "      <td>Website</td>\n",
       "      <td>Level 2</td>\n",
       "      <td>Following up but lead not responding</td>\n",
       "      <td>Massiah,Gerard F</td>\n",
       "      <td>Cannot deliver</td>\n",
       "      <td>1.0</td>\n",
       "    </tr>\n",
       "    <tr>\n",
       "      <th>1690</th>\n",
       "      <td>TitleGG5O3</td>\n",
       "      <td>Mcknight-Allen and Sons</td>\n",
       "      <td>Banks</td>\n",
       "      <td>120602.0</td>\n",
       "      <td>7.236120e+05</td>\n",
       "      <td>2019-09-10</td>\n",
       "      <td>Product_2</td>\n",
       "      <td>943-118-7527x79880</td>\n",
       "      <td>500 Million - 1 Billion</td>\n",
       "      <td>Category 2</td>\n",
       "      <td>USA</td>\n",
       "      <td>NaN</td>\n",
       "      <td>Logan Smith</td>\n",
       "      <td>SVP/General Counsel</td>\n",
       "      <td>logansmith@mcknightallen.com</td>\n",
       "      <td>Psychotherapist, dance movement</td>\n",
       "      <td>Others</td>\n",
       "      <td>Level 2</td>\n",
       "      <td>?</td>\n",
       "      <td>Moran,Natalie A</td>\n",
       "      <td>No</td>\n",
       "      <td>4.0</td>\n",
       "    </tr>\n",
       "  </tbody>\n",
       "</table>\n",
       "</div>"
      ],
      "text/plain": [
       "      Deal_title                       Lead_name                Industry  \\\n",
       "1000  Title4B3IC   Fischer, Walker and Clark Ltd       Hospitals/Clinics   \n",
       "1514  Title797F9  Flores, Riley and Mckinney Ltd  Constr/Agric Machinery   \n",
       "1690  TitleGG5O3         Mcknight-Allen and Sons                   Banks   \n",
       "\n",
       "      Deal_value  Weighted_amount Date_of_creation      Pitch  \\\n",
       "1000    293714.0     1.835712e+06       2020-03-31  Product_2   \n",
       "1514    264533.0     1.556917e+06       2019-06-23  Product_1   \n",
       "1690    120602.0     7.236120e+05       2019-09-10  Product_2   \n",
       "\n",
       "              Contact_no             Lead_revenue Fund_category Geography  \\\n",
       "1000  421.040.4106x16629         50 - 100 Million    Category 1       USA   \n",
       "1514       (664)885-6956         50 - 100 Million    Category 1     India   \n",
       "1690  943-118-7527x79880  500 Million - 1 Billion    Category 2       USA   \n",
       "\n",
       "     Location     POC_name              Designation  \\\n",
       "1000      NaN   James Dean  CEO/Co-Founder/Chairman   \n",
       "1514      NaN  Randy Ramos     SVP/General Counsel    \n",
       "1690      NaN  Logan Smith     SVP/General Counsel    \n",
       "\n",
       "                    Lead_POC_email            Hiring_candidate_role  \\\n",
       "1000         jamesdean@fischer.com               Academic librarian   \n",
       "1514         randyramos@flores.com               Arts administrator   \n",
       "1690  logansmith@mcknightallen.com  Psychotherapist, dance movement   \n",
       "\n",
       "        Lead_source Level_of_meeting                      Last_lead_update  \\\n",
       "1000  Contact Email          Level 2                           5 days back   \n",
       "1514        Website          Level 2  Following up but lead not responding   \n",
       "1690         Others          Level 2                                     ?   \n",
       "\n",
       "          Internal_POC                      Resource  Internal_rating  \n",
       "1000    Mabrey,Kevin C  We have all the requirements              2.0  \n",
       "1514  Massiah,Gerard F                Cannot deliver              1.0  \n",
       "1690   Moran,Natalie A                            No              4.0  "
      ]
     },
     "execution_count": 206,
     "metadata": {},
     "output_type": "execute_result"
    }
   ],
   "source": [
    "data[data[\"Location\"].isnull()]"
   ]
  },
  {
   "cell_type": "markdown",
   "id": "played-purple",
   "metadata": {},
   "source": [
    "Task 7 manually check the location to fill out missing values. In USA we have place and state but in india we only have place. We can extrat more information out of it. only one is having India and Rest two is having USA"
   ]
  },
  {
   "cell_type": "code",
   "execution_count": 207,
   "id": "equipped-ballet",
   "metadata": {},
   "outputs": [
    {
     "data": {
      "text/plain": [
       "'Moradabad'"
      ]
     },
     "execution_count": 207,
     "metadata": {},
     "output_type": "execute_result"
    }
   ],
   "source": [
    "#get the mode value for india\n",
    "ind=data[data[\"Geography\"]==\"India\"]\n",
    "ind.Location.mode()[0]"
   ]
  },
  {
   "cell_type": "code",
   "execution_count": 208,
   "id": "compliant-tunisia",
   "metadata": {},
   "outputs": [],
   "source": [
    "data.loc[1514,\"Location\"]=\"Moradabad\""
   ]
  },
  {
   "cell_type": "code",
   "execution_count": 102,
   "id": "cordless-magnitude",
   "metadata": {},
   "outputs": [
    {
     "data": {
      "text/plain": [
       "'Chattanooga, TN-GA'"
      ]
     },
     "execution_count": 102,
     "metadata": {},
     "output_type": "execute_result"
    }
   ],
   "source": [
    "USA=data[data[\"Geography\"]==\"USA\"]\n",
    "USA.Location.mode()[0]"
   ]
  },
  {
   "cell_type": "code",
   "execution_count": 209,
   "id": "neutral-australian",
   "metadata": {},
   "outputs": [],
   "source": [
    "data.loc[1000,\"Location\"]=\"Chattanooga, TN-GA\""
   ]
  },
  {
   "cell_type": "code",
   "execution_count": 210,
   "id": "lined-doctor",
   "metadata": {},
   "outputs": [],
   "source": [
    "data.loc[1690,\"Location\"]=\"Chattanooga, TN-GA\""
   ]
  },
  {
   "cell_type": "code",
   "execution_count": 211,
   "id": "described-jesus",
   "metadata": {},
   "outputs": [
    {
     "name": "stdout",
     "output_type": "stream",
     "text": [
      "['sonia' 'Daniel Bell' 'Andrew Davis' ... 'William Spears' 'Amy Page'\n",
      " 'ashma']\n",
      "Unique values in POC_name  (1746,)\n",
      "Missing value in POC_name  2\n",
      "Data type of POC_name :  object\n",
      "Value count POC_name :  pooja               23\n",
      "jyoti               14\n",
      "priyanka            13\n",
      "poonam              12\n",
      "mamta               10\n",
      "                    ..\n",
      "poonam sharma        1\n",
      "Leslie Price         1\n",
      "Cheyenne Potts       1\n",
      "Ashley Gross         1\n",
      "safika @ haseena     1\n",
      "Name: POC_name, Length: 1745, dtype: int64\n"
     ]
    },
    {
     "data": {
      "text/plain": [
       "0                sonia\n",
       "1          Daniel Bell\n",
       "2         Andrew Davis\n",
       "3               shital\n",
       "4    Shelly Stephenson\n",
       "Name: POC_name, dtype: object"
      ]
     },
     "execution_count": 211,
     "metadata": {},
     "output_type": "execute_result"
    }
   ],
   "source": [
    "#POC_name =  Represents the lead's point of contact's name\n",
    "print(data.POC_name.unique())\n",
    "print(\"Unique values in POC_name \", data.POC_name.unique().shape)\n",
    "print(\"Missing value in POC_name \", data.POC_name.isnull().sum())\n",
    "print(\"Data type of POC_name : \", data.POC_name.dtype)\n",
    "print(\"Value count POC_name : \", data.POC_name.value_counts())\n",
    "data.POC_name.head()"
   ]
  },
  {
   "cell_type": "code",
   "execution_count": null,
   "id": "eligible-picture",
   "metadata": {},
   "outputs": [],
   "source": [
    "#POC_name consist of 2 missing values we will replace it with mode. This can be an important feature for prediction\n",
    "#Task 8- Fill out missing values in Poc name we will replace it mith mode"
   ]
  },
  {
   "cell_type": "code",
   "execution_count": 212,
   "id": "appreciated-connection",
   "metadata": {},
   "outputs": [],
   "source": [
    "#replace  missing value in POC_name\n",
    "data[\"POC_name\"] = data[\"POC_name\"].fillna((data.POC_name.mode()[0]))"
   ]
  },
  {
   "cell_type": "code",
   "execution_count": 213,
   "id": "literary-castle",
   "metadata": {},
   "outputs": [
    {
     "name": "stdout",
     "output_type": "stream",
     "text": [
      "Unique values in Designation  (10,)\n",
      "Missing value in Designation  0\n",
      "Data type of Designation :  object\n",
      "Value count Designation :  CEO/Co-Founder/Chairman                                              230\n",
      "SVP/General Counsel                                                  228\n",
      "CEO/Chairman/President                                               227\n",
      "Vice President / GM (04-present) : VP Sales and Marketing (01-04)    220\n",
      "Chairman/CEO/President                                               213\n",
      "Chief Executive Officer                                              206\n",
      "Chairman/Chief Innovation Officer                                    196\n",
      "CEO                                                                  194\n",
      "CEO/President                                                        192\n",
      "Executive Vice President                                             187\n",
      "Name: Designation, dtype: int64\n"
     ]
    }
   ],
   "source": [
    "#Designation = Represents the lead POC's designation\n",
    "#print(data.Designation.unique())\n",
    "print(\"Unique values in Designation \", data.Designation.unique().shape)\n",
    "print(\"Missing value in Designation \", data.Designation.isnull().sum())\n",
    "print(\"Data type of Designation : \", data.Designation.dtype)\n",
    "print(\"Value count Designation : \", data.Designation.value_counts())\n",
    "#data.Designation.head()"
   ]
  },
  {
   "cell_type": "code",
   "execution_count": null,
   "id": "forbidden-spending",
   "metadata": {},
   "outputs": [],
   "source": [
    "Task 9- Encode the designation using label encoding at last. "
   ]
  },
  {
   "cell_type": "code",
   "execution_count": 214,
   "id": "catholic-appeal",
   "metadata": {},
   "outputs": [
    {
     "name": "stdout",
     "output_type": "stream",
     "text": [
      "Unique values in Lead_POC_email  (2093,)\n",
      "Missing value in Lead_POC_email  0\n",
      "Data type of Lead_POC_email :  object\n",
      "Value count Lead_POC_email :  colleensanchez@stephens.com             1\n",
      "christopherrosario@wellslawrence.com    1\n",
      "tracykeller@cabrerafernandez.com        1\n",
      "charlesduarte@danielsmcpherson.com      1\n",
      "elizabethhampton@miller.com             1\n",
      "                                       ..\n",
      "saralewis@potter.com                    1\n",
      "debrawilson@martinez.com                1\n",
      "robincohen@browninghamilton.com         1\n",
      "jerryjordan@cunninghambrown.com         1\n",
      "johngraham@millermclaughlin.com         1\n",
      "Name: Lead_POC_email, Length: 2093, dtype: int64\n"
     ]
    }
   ],
   "source": [
    "#Lead_POC_email = Represents the lead POC's email address\n",
    "#print(data.Lead_POC_email.unique())\n",
    "print(\"Unique values in Lead_POC_email \", data.Lead_POC_email.unique().shape)\n",
    "print(\"Missing value in Lead_POC_email \", data.Lead_POC_email.isnull().sum())\n",
    "print(\"Data type of Lead_POC_email : \", data.Lead_POC_email.dtype)\n",
    "print(\"Value count Lead_POC_email : \", data.Lead_POC_email.value_counts())\n",
    "#data.Lead_POC_email.head()"
   ]
  },
  {
   "cell_type": "code",
   "execution_count": null,
   "id": "revised-education",
   "metadata": {},
   "outputs": [],
   "source": [
    "# we have all unique values and no missing values. remove at last"
   ]
  },
  {
   "cell_type": "code",
   "execution_count": 215,
   "id": "abroad-character",
   "metadata": {},
   "outputs": [
    {
     "name": "stdout",
     "output_type": "stream",
     "text": [
      "Unique values in Hiring_candidate_role  (618,)\n",
      "Missing value in Hiring_candidate_role  0\n",
      "Data type of Hiring_candidate_role :  object\n",
      "Value count Hiring_candidate_role :  Museum/gallery conservator                  10\n",
      "Conservation officer, historic buildings    10\n",
      "Research officer, government                10\n",
      "Field trials officer                        10\n",
      "Cartographer                                 9\n",
      "                                            ..\n",
      "IT trainer                                   1\n",
      "Chiropodist                                  1\n",
      "Ambulance person                             1\n",
      "Clinical research associate                  1\n",
      "Geologist, wellsite                          1\n",
      "Name: Hiring_candidate_role, Length: 618, dtype: int64\n"
     ]
    }
   ],
   "source": [
    "#Hiring_candidate_role = Represents the job role that a lead wants to hire\n",
    "#print(data.Hiring_candidate_role.unique())\n",
    "print(\"Unique values in Hiring_candidate_role \", data.Hiring_candidate_role.unique().shape)\n",
    "print(\"Missing value in Hiring_candidate_role \", data.Hiring_candidate_role.isnull().sum())\n",
    "print(\"Data type of Hiring_candidate_role : \", data.Hiring_candidate_role.dtype)\n",
    "print(\"Value count Hiring_candidate_role : \", data.Hiring_candidate_role.value_counts())\n",
    "#data.Hiring_candidate_role.head()"
   ]
  },
  {
   "cell_type": "markdown",
   "id": "amino-contact",
   "metadata": {},
   "source": [
    "Task 10 - We have categorical values, encode using label encoder at last. "
   ]
  },
  {
   "cell_type": "code",
   "execution_count": 216,
   "id": "wrapped-council",
   "metadata": {},
   "outputs": [
    {
     "name": "stdout",
     "output_type": "stream",
     "text": [
      "Unique values in Lead_source  (4,)\n",
      "Missing value in Lead_source  0\n",
      "Data type of Lead_source :  object\n",
      "Value count Lead_source :  Contact Email      540\n",
      "Others             530\n",
      "Marketing Event    513\n",
      "Website            510\n",
      "Name: Lead_source, dtype: int64\n"
     ]
    }
   ],
   "source": [
    "#Lead_source = Represents the source from which the lead is generated\n",
    "#print(data.Lead_source.unique())\n",
    "print(\"Unique values in Lead_source \", data.Lead_source.unique().shape)\n",
    "print(\"Missing value in Lead_source \", data.Lead_source.isnull().sum())\n",
    "print(\"Data type of Lead_source : \", data.Lead_source.dtype)\n",
    "print(\"Value count Lead_source : \", data.Lead_source.value_counts())\n",
    "#data.Lead_source.head()"
   ]
  },
  {
   "cell_type": "code",
   "execution_count": null,
   "id": "pediatric-bristol",
   "metadata": {},
   "outputs": [],
   "source": [
    "Task 11- Encode Lead_source using label encoding at last."
   ]
  },
  {
   "cell_type": "code",
   "execution_count": 217,
   "id": "employed-constitutional",
   "metadata": {},
   "outputs": [
    {
     "name": "stdout",
     "output_type": "stream",
     "text": [
      "Unique values in Level_of_meeting  (3,)\n",
      "Missing value in Level_of_meeting  0\n",
      "Data type of Level_of_meeting :  object\n",
      "Value count Level_of_meeting :  Level 1    739\n",
      "Level 3    697\n",
      "Level 2    657\n",
      "Name: Level_of_meeting, dtype: int64\n"
     ]
    }
   ],
   "source": [
    "#Level_of_meeting = Represents the level of a meeting with the lead.\n",
    "#                        Level 1: Introductory call\n",
    "#                        Level 2: Demo call\n",
    "#                        Level 3: Pre-sales call\n",
    "#print(data.Level_of_meeting.unique())\n",
    "print(\"Unique values in Level_of_meeting \", data.Level_of_meeting.unique().shape)\n",
    "print(\"Missing value in Level_of_meeting \", data.Level_of_meeting.isnull().sum())\n",
    "print(\"Data type of Level_of_meeting : \", data.Level_of_meeting.dtype)\n",
    "print(\"Value count Level_of_meeting : \", data.Level_of_meeting.value_counts())\n",
    "#data.Level_of_meeting.head()"
   ]
  },
  {
   "cell_type": "markdown",
   "id": "upper-disclosure",
   "metadata": {},
   "source": [
    "Task 12-  Encode Level_of_meeting . We have use ranking for encoding at last."
   ]
  },
  {
   "cell_type": "code",
   "execution_count": 218,
   "id": "veterinary-hazard",
   "metadata": {},
   "outputs": [
    {
     "name": "stdout",
     "output_type": "stream",
     "text": [
      "Unique values in Last_lead_update  (12,)\n",
      "Missing value in Last_lead_update  168\n",
      "Data type of Last_lead_update :  object\n",
      "Value count Last_lead_update :  2 days back                             204\n",
      "?                                       190\n",
      "5 days back                             186\n",
      "More than 2 weeks                       186\n",
      "more than a month                       180\n",
      "Up-to-date                              176\n",
      "Did not hear back after Level 1         173\n",
      "No track                                165\n",
      "Pending                                 156\n",
      "Following up but lead not responding    155\n",
      "More than a week back                   154\n",
      "Name: Last_lead_update, dtype: int64\n"
     ]
    }
   ],
   "source": [
    "#Last_lead_update = Represents the communication update between a lead and your company\n",
    "#print(data.Last_lead_update.unique())\n",
    "print(\"Unique values in Last_lead_update \", data.Last_lead_update.unique().shape)\n",
    "print(\"Missing value in Last_lead_update \", data.Last_lead_update.isnull().sum())\n",
    "print(\"Data type of Last_lead_update : \", data.Last_lead_update.dtype)\n",
    "print(\"Value count Last_lead_update : \", data.Last_lead_update.value_counts())\n",
    "#data.Last_lead_update.head()"
   ]
  },
  {
   "cell_type": "markdown",
   "id": "protecting-western",
   "metadata": {},
   "source": [
    "Task 13- Last_lead_update is a categorical feature. We need to encode it and fill missing values with most frequent value. and also replace ? with unknown as a new categorical value."
   ]
  },
  {
   "cell_type": "code",
   "execution_count": 219,
   "id": "supposed-ranch",
   "metadata": {},
   "outputs": [],
   "source": [
    "#replace  missing value in Last_lead_update\n",
    "data[\"Last_lead_update\"] = data[\"Last_lead_update\"].fillna((data.Last_lead_update.mode()[0]))"
   ]
  },
  {
   "cell_type": "code",
   "execution_count": 220,
   "id": "natural-realtor",
   "metadata": {},
   "outputs": [
    {
     "name": "stdout",
     "output_type": "stream",
     "text": [
      "Unique values in Internal_POC  (60,)\n",
      "Missing value in Internal_POC  0\n",
      "Data type of Internal_POC :  object\n",
      "Value count Internal_POC :  Georgakopoulos,Vasilios T    48\n",
      "Abdul-Hamid,Saud Muhamad     44\n",
      "Murray,Younetta              43\n",
      "Featherstone,Adrian R        42\n",
      "Van Arter,Derrick            42\n",
      "Charles,Caleb                40\n",
      "Himes,Maurice C              40\n",
      "Salyers,Daniel L             40\n",
      "Brown,Maxine A               40\n",
      "Clavey,Therese A             40\n",
      "Dunaway,Antoine              39\n",
      "Young,Valerie K              39\n",
      "Robinson,John C              39\n",
      "Dyson,William A              39\n",
      "Maine,John P                 38\n",
      "Bannister,Joan               38\n",
      "Irizarry,Yolanda             38\n",
      "McKenstry,Loretta A          38\n",
      "Leu,Darren L                 38\n",
      "Booker,David L               37\n",
      "Hanyok,John J                37\n",
      "Tondeur,Keith D              37\n",
      "Hameier,Kurt E               37\n",
      "Ross,Eric L                  36\n",
      "Hebron,Artenia D             36\n",
      "Smith,Keenan H               36\n",
      "Rocks,Michael J              35\n",
      "Cash,Tyrone J                35\n",
      "Knox,Antonio D               35\n",
      "Logan,Kevin N                35\n",
      "Ryker,David                  35\n",
      "Jones,Michael L              34\n",
      "Dimattia,Frank D             34\n",
      "Ullrich,Rose Anne            34\n",
      "Morsy,Omar A                 34\n",
      "Moran,Natalie A              33\n",
      "Davis,Sharrice A             33\n",
      "Heidelberg,Andre D           32\n",
      "Anthony,Katherine D          32\n",
      "Green,Candy                  32\n",
      "Massiah,Gerard F             32\n",
      "Gould,Lisa D                 32\n",
      "Thomas,Lori E                32\n",
      "Mabrey,Kevin C               32\n",
      "Green,Ann E                  32\n",
      "Carter Sr,Clifton E          32\n",
      "Houston,Arnold E             32\n",
      "Gaskins Jr,Franklin D        31\n",
      "Sutton,Michelle R            31\n",
      "Cashin,Marc C                31\n",
      "Kiepea,Prince A              31\n",
      "Vickers Jr.,Henry J          29\n",
      "Gilley,Janine                29\n",
      "Meli,Teresa V                29\n",
      "Pappas,Mark S                29\n",
      "Shelton,Sidney P             28\n",
      "Davis,Brian R                27\n",
      "Ali,Mohamed                  27\n",
      "Turner,Marlon D              27\n",
      "Jones,Eyvette W              26\n",
      "Name: Internal_POC, dtype: int64\n"
     ]
    }
   ],
   "source": [
    "#Internal_POC = Represents the name of the employee who has generated the lead\n",
    "#print(data.Internal_POC.unique())\n",
    "print(\"Unique values in Internal_POC \", data.Internal_POC.unique().shape)\n",
    "print(\"Missing value in Internal_POC \", data.Internal_POC.isnull().sum())\n",
    "print(\"Data type of Internal_POC : \", data.Internal_POC.dtype)\n",
    "print(\"Value count Internal_POC : \", data.Internal_POC.value_counts())\n",
    "#data.Internal_POC.head()"
   ]
  },
  {
   "cell_type": "markdown",
   "id": "steady-mainstream",
   "metadata": {},
   "source": [
    "Task 14- Internal_POC is a categorical feature. We need to encode it at last."
   ]
  },
  {
   "cell_type": "code",
   "execution_count": 221,
   "id": "offshore-integral",
   "metadata": {},
   "outputs": [
    {
     "name": "stdout",
     "output_type": "stream",
     "text": [
      "Unique values in Resource  (7,)\n",
      "Missing value in Resource  14\n",
      "Data type of Resource :  object\n",
      "Value count Resource :  Cannot deliver                  384\n",
      "No                              365\n",
      "Not enough                      346\n",
      "We have all the requirements    345\n",
      "Yes                             332\n",
      "Deliverable                     307\n",
      "Name: Resource, dtype: int64\n"
     ]
    }
   ],
   "source": [
    "#Resource = Represents whether your company has enough resources to satisfy a lead's requirements\n",
    "#print(data.Resource.unique())\n",
    "print(\"Unique values in Resource \", data.Resource.unique().shape)\n",
    "print(\"Missing value in Resource \", data.Resource.isnull().sum())\n",
    "print(\"Data type of Resource : \", data.Resource.dtype)\n",
    "print(\"Value count Resource : \", data.Resource.value_counts())\n",
    "#data.Resource.head()"
   ]
  },
  {
   "cell_type": "code",
   "execution_count": 222,
   "id": "constitutional-awareness",
   "metadata": {},
   "outputs": [],
   "source": [
    "#Task 15- Resource We need to encode it using label encoder and fill out missing value with mode (Cannot deliver)\n",
    "#most occuring value of Resource Category\n",
    "#replace  missing value in Resource\n",
    "data[\"Resource\"] = data[\"Resource\"].fillna((data[\"Resource\"].mode()[0]))"
   ]
  },
  {
   "cell_type": "code",
   "execution_count": 223,
   "id": "nominated-honduras",
   "metadata": {},
   "outputs": [
    {
     "name": "stdout",
     "output_type": "stream",
     "text": [
      "Unique values in Internal_rating  (7,)\n",
      "Missing value in Internal_rating  0\n",
      "Data type of Internal_rating :  float64\n",
      "Value count Internal_rating :   3.00     421\n",
      " 5.00     417\n",
      " 2.00     411\n",
      " 1.00     399\n",
      " 4.00     391\n",
      "-1.00      48\n",
      " 82.34      6\n",
      "Name: Internal_rating, dtype: int64\n"
     ]
    }
   ],
   "source": [
    "#Internal_rating = Represents a rating (1-5) given to a lead\n",
    "#print(data.Internal_rating.unique())\n",
    "print(\"Unique values in Internal_rating \", data.Internal_rating.unique().shape)\n",
    "print(\"Missing value in Internal_rating \", data.Internal_rating.isnull().sum())\n",
    "print(\"Data type of Internal_rating : \", data.Internal_rating.dtype)\n",
    "print(\"Value count Internal_rating : \", data.Internal_rating.value_counts())\n",
    "#data.Internal_rating.head()"
   ]
  },
  {
   "cell_type": "code",
   "execution_count": null,
   "id": "specified-vacation",
   "metadata": {},
   "outputs": [],
   "source": [
    "Task 16- We have rating from 1 to 5 and there is no missing value. W have to drop rows with value 82.34"
   ]
  },
  {
   "cell_type": "code",
   "execution_count": 224,
   "id": "baking-packaging",
   "metadata": {},
   "outputs": [
    {
     "data": {
      "text/html": [
       "<div>\n",
       "<style scoped>\n",
       "    .dataframe tbody tr th:only-of-type {\n",
       "        vertical-align: middle;\n",
       "    }\n",
       "\n",
       "    .dataframe tbody tr th {\n",
       "        vertical-align: top;\n",
       "    }\n",
       "\n",
       "    .dataframe thead th {\n",
       "        text-align: right;\n",
       "    }\n",
       "</style>\n",
       "<table border=\"1\" class=\"dataframe\">\n",
       "  <thead>\n",
       "    <tr style=\"text-align: right;\">\n",
       "      <th></th>\n",
       "      <th>Deal_title</th>\n",
       "      <th>Lead_name</th>\n",
       "      <th>Industry</th>\n",
       "      <th>Deal_value</th>\n",
       "      <th>Weighted_amount</th>\n",
       "      <th>Date_of_creation</th>\n",
       "      <th>Pitch</th>\n",
       "      <th>Contact_no</th>\n",
       "      <th>Lead_revenue</th>\n",
       "      <th>Fund_category</th>\n",
       "      <th>Geography</th>\n",
       "      <th>Location</th>\n",
       "      <th>POC_name</th>\n",
       "      <th>Designation</th>\n",
       "      <th>Lead_POC_email</th>\n",
       "      <th>Hiring_candidate_role</th>\n",
       "      <th>Lead_source</th>\n",
       "      <th>Level_of_meeting</th>\n",
       "      <th>Last_lead_update</th>\n",
       "      <th>Internal_POC</th>\n",
       "      <th>Resource</th>\n",
       "      <th>Internal_rating</th>\n",
       "    </tr>\n",
       "  </thead>\n",
       "  <tbody>\n",
       "    <tr>\n",
       "      <th>433</th>\n",
       "      <td>Title4KKQU</td>\n",
       "      <td>Johnson-Gutierrez and Sons</td>\n",
       "      <td>Peripherals/Comp.</td>\n",
       "      <td>89249.0</td>\n",
       "      <td>580118.50</td>\n",
       "      <td>2019-05-28</td>\n",
       "      <td>Product_1</td>\n",
       "      <td>642.371.3952x574</td>\n",
       "      <td>500 Million - 1 Billion</td>\n",
       "      <td>Category 1</td>\n",
       "      <td>India</td>\n",
       "      <td>Surat</td>\n",
       "      <td>baby  bai</td>\n",
       "      <td>SVP/General Counsel</td>\n",
       "      <td>joeharrell@johnsongutierrez.com</td>\n",
       "      <td>Personal assistant</td>\n",
       "      <td>Contact Email</td>\n",
       "      <td>Level 2</td>\n",
       "      <td>More than 2 weeks</td>\n",
       "      <td>Massiah,Gerard F</td>\n",
       "      <td>Not enough</td>\n",
       "      <td>82.34</td>\n",
       "    </tr>\n",
       "    <tr>\n",
       "      <th>1044</th>\n",
       "      <td>Title92JGX</td>\n",
       "      <td>Hurley-Russell Inc</td>\n",
       "      <td>ISPs</td>\n",
       "      <td>250074.0</td>\n",
       "      <td>1788029.10</td>\n",
       "      <td>2020-06-14</td>\n",
       "      <td>Product_2</td>\n",
       "      <td>648.197.4666x470</td>\n",
       "      <td>100 - 500 Million</td>\n",
       "      <td>Category 1</td>\n",
       "      <td>India</td>\n",
       "      <td>Kolkata</td>\n",
       "      <td>praveen</td>\n",
       "      <td>CEO/Chairman/President</td>\n",
       "      <td>gracejennings@hurleyrussell.com</td>\n",
       "      <td>Engineer, control and instrumentation</td>\n",
       "      <td>Marketing Event</td>\n",
       "      <td>Level 3</td>\n",
       "      <td>2 days back</td>\n",
       "      <td>Hameier,Kurt E</td>\n",
       "      <td>Yes</td>\n",
       "      <td>82.34</td>\n",
       "    </tr>\n",
       "    <tr>\n",
       "      <th>1329</th>\n",
       "      <td>TitleSN96Y</td>\n",
       "      <td>Sutton, Walls and Williams Ltd</td>\n",
       "      <td>Services</td>\n",
       "      <td>304166.0</td>\n",
       "      <td>2098745.40</td>\n",
       "      <td>2020-10-18</td>\n",
       "      <td>Product_2</td>\n",
       "      <td>001-237-888-3906x081</td>\n",
       "      <td>100 - 500 Million</td>\n",
       "      <td>Category 1</td>\n",
       "      <td>India</td>\n",
       "      <td>Rajahmundry</td>\n",
       "      <td>pushpa</td>\n",
       "      <td>CEO/President</td>\n",
       "      <td>jeffreywilson@sutton.com</td>\n",
       "      <td>Stage manager</td>\n",
       "      <td>Website</td>\n",
       "      <td>Level 3</td>\n",
       "      <td>Following up but lead not responding</td>\n",
       "      <td>Abdul-Hamid,Saud Muhamad</td>\n",
       "      <td>Cannot deliver</td>\n",
       "      <td>82.34</td>\n",
       "    </tr>\n",
       "    <tr>\n",
       "      <th>1399</th>\n",
       "      <td>TitleVEJGJ</td>\n",
       "      <td>Oconnor, Graham and Sanders Group</td>\n",
       "      <td>Publishing</td>\n",
       "      <td>160504.0</td>\n",
       "      <td>1099452.40</td>\n",
       "      <td>2020-01-08</td>\n",
       "      <td>Product_2</td>\n",
       "      <td>3931431891</td>\n",
       "      <td>500 Million - 1 Billion</td>\n",
       "      <td>Category 4</td>\n",
       "      <td>India</td>\n",
       "      <td>Bamanpuri</td>\n",
       "      <td>aakanksha d/o</td>\n",
       "      <td>Executive Vice President</td>\n",
       "      <td>walterrivera@oconnor.com</td>\n",
       "      <td>Clinical biochemist</td>\n",
       "      <td>Website</td>\n",
       "      <td>Level 2</td>\n",
       "      <td>more than a month</td>\n",
       "      <td>Ali,Mohamed</td>\n",
       "      <td>Deliverable</td>\n",
       "      <td>82.34</td>\n",
       "    </tr>\n",
       "    <tr>\n",
       "      <th>1475</th>\n",
       "      <td>TitleH5282</td>\n",
       "      <td>Ware-Williams LLC</td>\n",
       "      <td>Banks</td>\n",
       "      <td>347583.0</td>\n",
       "      <td>2224531.20</td>\n",
       "      <td>2021-01-12</td>\n",
       "      <td>Product_1</td>\n",
       "      <td>027-607-4686x230</td>\n",
       "      <td>50 - 100 Million</td>\n",
       "      <td>Category 4</td>\n",
       "      <td>India</td>\n",
       "      <td>Bhavnagar</td>\n",
       "      <td>santosh</td>\n",
       "      <td>Vice President / GM (04-present) : VP Sales an...</td>\n",
       "      <td>carriephelps@warewilliams.com</td>\n",
       "      <td>Secretary/administrator</td>\n",
       "      <td>Others</td>\n",
       "      <td>Level 3</td>\n",
       "      <td>More than a week back</td>\n",
       "      <td>Sutton,Michelle R</td>\n",
       "      <td>Cannot deliver</td>\n",
       "      <td>82.34</td>\n",
       "    </tr>\n",
       "    <tr>\n",
       "      <th>1931</th>\n",
       "      <td>TitleU5YAN</td>\n",
       "      <td>Evans-Burton and Sons</td>\n",
       "      <td>Wood/Timber</td>\n",
       "      <td>364375.0</td>\n",
       "      <td>2277343.75</td>\n",
       "      <td>2019-07-20</td>\n",
       "      <td>Product_1</td>\n",
       "      <td>(857)928-7428x39346</td>\n",
       "      <td>100 - 500 Million</td>\n",
       "      <td>Category 2</td>\n",
       "      <td>India</td>\n",
       "      <td>Brahmapur</td>\n",
       "      <td>pinki</td>\n",
       "      <td>CEO/Co-Founder/Chairman</td>\n",
       "      <td>markpalmer@evansburton.com</td>\n",
       "      <td>Insurance claims handler</td>\n",
       "      <td>Others</td>\n",
       "      <td>Level 3</td>\n",
       "      <td>Pending</td>\n",
       "      <td>Booker,David L</td>\n",
       "      <td>Yes</td>\n",
       "      <td>82.34</td>\n",
       "    </tr>\n",
       "  </tbody>\n",
       "</table>\n",
       "</div>"
      ],
      "text/plain": [
       "      Deal_title                          Lead_name           Industry  \\\n",
       "433   Title4KKQU         Johnson-Gutierrez and Sons  Peripherals/Comp.   \n",
       "1044  Title92JGX                 Hurley-Russell Inc               ISPs   \n",
       "1329  TitleSN96Y     Sutton, Walls and Williams Ltd           Services   \n",
       "1399  TitleVEJGJ  Oconnor, Graham and Sanders Group         Publishing   \n",
       "1475  TitleH5282                  Ware-Williams LLC              Banks   \n",
       "1931  TitleU5YAN              Evans-Burton and Sons        Wood/Timber   \n",
       "\n",
       "      Deal_value  Weighted_amount Date_of_creation      Pitch  \\\n",
       "433      89249.0        580118.50       2019-05-28  Product_1   \n",
       "1044    250074.0       1788029.10       2020-06-14  Product_2   \n",
       "1329    304166.0       2098745.40       2020-10-18  Product_2   \n",
       "1399    160504.0       1099452.40       2020-01-08  Product_2   \n",
       "1475    347583.0       2224531.20       2021-01-12  Product_1   \n",
       "1931    364375.0       2277343.75       2019-07-20  Product_1   \n",
       "\n",
       "                Contact_no             Lead_revenue Fund_category Geography  \\\n",
       "433       642.371.3952x574  500 Million - 1 Billion    Category 1     India   \n",
       "1044      648.197.4666x470        100 - 500 Million    Category 1     India   \n",
       "1329  001-237-888-3906x081        100 - 500 Million    Category 1     India   \n",
       "1399            3931431891  500 Million - 1 Billion    Category 4     India   \n",
       "1475      027-607-4686x230         50 - 100 Million    Category 4     India   \n",
       "1931   (857)928-7428x39346        100 - 500 Million    Category 2     India   \n",
       "\n",
       "         Location       POC_name  \\\n",
       "433         Surat      baby  bai   \n",
       "1044     Kolkata         praveen   \n",
       "1329  Rajahmundry         pushpa   \n",
       "1399    Bamanpuri  aakanksha d/o   \n",
       "1475    Bhavnagar        santosh   \n",
       "1931    Brahmapur          pinki   \n",
       "\n",
       "                                            Designation  \\\n",
       "433                                SVP/General Counsel    \n",
       "1044                             CEO/Chairman/President   \n",
       "1329                                      CEO/President   \n",
       "1399                           Executive Vice President   \n",
       "1475  Vice President / GM (04-present) : VP Sales an...   \n",
       "1931                            CEO/Co-Founder/Chairman   \n",
       "\n",
       "                       Lead_POC_email                  Hiring_candidate_role  \\\n",
       "433   joeharrell@johnsongutierrez.com                     Personal assistant   \n",
       "1044  gracejennings@hurleyrussell.com  Engineer, control and instrumentation   \n",
       "1329         jeffreywilson@sutton.com                          Stage manager   \n",
       "1399         walterrivera@oconnor.com                    Clinical biochemist   \n",
       "1475    carriephelps@warewilliams.com                Secretary/administrator   \n",
       "1931       markpalmer@evansburton.com               Insurance claims handler   \n",
       "\n",
       "          Lead_source Level_of_meeting                      Last_lead_update  \\\n",
       "433     Contact Email          Level 2                     More than 2 weeks   \n",
       "1044  Marketing Event          Level 3                           2 days back   \n",
       "1329          Website          Level 3  Following up but lead not responding   \n",
       "1399          Website          Level 2                     more than a month   \n",
       "1475           Others          Level 3                 More than a week back   \n",
       "1931           Others          Level 3                               Pending   \n",
       "\n",
       "                  Internal_POC        Resource  Internal_rating  \n",
       "433           Massiah,Gerard F      Not enough            82.34  \n",
       "1044            Hameier,Kurt E             Yes            82.34  \n",
       "1329  Abdul-Hamid,Saud Muhamad  Cannot deliver            82.34  \n",
       "1399               Ali,Mohamed     Deliverable            82.34  \n",
       "1475         Sutton,Michelle R  Cannot deliver            82.34  \n",
       "1931            Booker,David L             Yes            82.34  "
      ]
     },
     "execution_count": 224,
     "metadata": {},
     "output_type": "execute_result"
    }
   ],
   "source": [
    "data[data[\"Internal_rating\"]==82.34]"
   ]
  },
  {
   "cell_type": "code",
   "execution_count": 134,
   "id": "tracked-brand",
   "metadata": {},
   "outputs": [],
   "source": [
    "#data.drop(data.loc[data['Internal_rating'] == 82.34].index, inplace=True)"
   ]
  },
  {
   "cell_type": "markdown",
   "id": "welcome-mountain",
   "metadata": {},
   "source": [
    "Now there is no missing values so we will start withencoding."
   ]
  },
  {
   "cell_type": "code",
   "execution_count": 225,
   "id": "differential-specific",
   "metadata": {},
   "outputs": [],
   "source": [
    "data.to_csv(\"test_processedV1.csv\", index=False)"
   ]
  },
  {
   "cell_type": "markdown",
   "id": "raising-greenhouse",
   "metadata": {},
   "source": [
    "# Start encoding categorical value"
   ]
  },
  {
   "cell_type": "code",
   "execution_count": 226,
   "id": "micro-saturday",
   "metadata": {},
   "outputs": [],
   "source": [
    "from sklearn.preprocessing import LabelEncoder\n",
    "lab_encod= LabelEncoder()"
   ]
  },
  {
   "cell_type": "code",
   "execution_count": 227,
   "id": "different-talent",
   "metadata": {},
   "outputs": [
    {
     "data": {
      "text/html": [
       "<div>\n",
       "<style scoped>\n",
       "    .dataframe tbody tr th:only-of-type {\n",
       "        vertical-align: middle;\n",
       "    }\n",
       "\n",
       "    .dataframe tbody tr th {\n",
       "        vertical-align: top;\n",
       "    }\n",
       "\n",
       "    .dataframe thead th {\n",
       "        text-align: right;\n",
       "    }\n",
       "</style>\n",
       "<table border=\"1\" class=\"dataframe\">\n",
       "  <thead>\n",
       "    <tr style=\"text-align: right;\">\n",
       "      <th></th>\n",
       "      <th>Deal_title</th>\n",
       "      <th>Lead_name</th>\n",
       "      <th>Industry</th>\n",
       "      <th>Deal_value</th>\n",
       "      <th>Weighted_amount</th>\n",
       "      <th>Date_of_creation</th>\n",
       "      <th>Pitch</th>\n",
       "      <th>Contact_no</th>\n",
       "      <th>Lead_revenue</th>\n",
       "      <th>Fund_category</th>\n",
       "      <th>Geography</th>\n",
       "      <th>Location</th>\n",
       "      <th>POC_name</th>\n",
       "      <th>Designation</th>\n",
       "      <th>Lead_POC_email</th>\n",
       "      <th>Hiring_candidate_role</th>\n",
       "      <th>Lead_source</th>\n",
       "      <th>Level_of_meeting</th>\n",
       "      <th>Last_lead_update</th>\n",
       "      <th>Internal_POC</th>\n",
       "      <th>Resource</th>\n",
       "      <th>Internal_rating</th>\n",
       "    </tr>\n",
       "  </thead>\n",
       "  <tbody>\n",
       "    <tr>\n",
       "      <th>0</th>\n",
       "      <td>TitleAD16O</td>\n",
       "      <td>Bonilla Ltd Inc</td>\n",
       "      <td>Investment Bank/Brokerage</td>\n",
       "      <td>200988.0</td>\n",
       "      <td>1.556917e+06</td>\n",
       "      <td>2020-04-15</td>\n",
       "      <td>Product_1</td>\n",
       "      <td>167.332.2751x989</td>\n",
       "      <td>100 - 500 Million</td>\n",
       "      <td>Category 4</td>\n",
       "      <td>India</td>\n",
       "      <td>Bhubaneshwar</td>\n",
       "      <td>sonia</td>\n",
       "      <td>Chairman/CEO/President</td>\n",
       "      <td>maureenthomas@bonilla.com</td>\n",
       "      <td>Designer, fashion/clothing</td>\n",
       "      <td>Marketing Event</td>\n",
       "      <td>Level 1</td>\n",
       "      <td>more than a month</td>\n",
       "      <td>Massiah,Gerard F</td>\n",
       "      <td>No</td>\n",
       "      <td>-1.0</td>\n",
       "    </tr>\n",
       "    <tr>\n",
       "      <th>1</th>\n",
       "      <td>TitleOW6CR</td>\n",
       "      <td>Williams, Rogers and Roach PLC</td>\n",
       "      <td>Electronics</td>\n",
       "      <td>409961.0</td>\n",
       "      <td>2.541758e+06</td>\n",
       "      <td>2021-01-23</td>\n",
       "      <td>Product_1</td>\n",
       "      <td>001-486-903-0711x7831</td>\n",
       "      <td>100 - 500 Million</td>\n",
       "      <td>Category 3</td>\n",
       "      <td>USA</td>\n",
       "      <td>Coeur d'Alene, ID</td>\n",
       "      <td>Daniel Bell</td>\n",
       "      <td>CEO/Co-Founder/Chairman</td>\n",
       "      <td>danielbell@williams.com</td>\n",
       "      <td>Horticultural consultant</td>\n",
       "      <td>Marketing Event</td>\n",
       "      <td>Level 2</td>\n",
       "      <td>Up-to-date</td>\n",
       "      <td>Smith,Keenan H</td>\n",
       "      <td>Yes</td>\n",
       "      <td>1.0</td>\n",
       "    </tr>\n",
       "    <tr>\n",
       "      <th>2</th>\n",
       "      <td>TitleVVJQ5</td>\n",
       "      <td>Wood, Vaughn and Morales Ltd</td>\n",
       "      <td>Banks</td>\n",
       "      <td>434433.0</td>\n",
       "      <td>3.041031e+06</td>\n",
       "      <td>2020-07-19</td>\n",
       "      <td>Product_1</td>\n",
       "      <td>(393)104-2610x9723</td>\n",
       "      <td>100 - 500 Million</td>\n",
       "      <td>Category 1</td>\n",
       "      <td>USA</td>\n",
       "      <td>Portland-South Portland, ME</td>\n",
       "      <td>Andrew Davis</td>\n",
       "      <td>Chairman/Chief Innovation Officer</td>\n",
       "      <td>andrewdavis@wood.com</td>\n",
       "      <td>Information officer</td>\n",
       "      <td>Marketing Event</td>\n",
       "      <td>Level 2</td>\n",
       "      <td>Did not hear back after Level 1</td>\n",
       "      <td>Gilley,Janine</td>\n",
       "      <td>Deliverable</td>\n",
       "      <td>5.0</td>\n",
       "    </tr>\n",
       "    <tr>\n",
       "      <th>3</th>\n",
       "      <td>TitleUS8NA</td>\n",
       "      <td>Durham-Crawford Inc</td>\n",
       "      <td>Music</td>\n",
       "      <td>218952.0</td>\n",
       "      <td>1.521716e+06</td>\n",
       "      <td>2020-02-27</td>\n",
       "      <td>Product_2</td>\n",
       "      <td>(817)040-4599</td>\n",
       "      <td>100 - 500 Million</td>\n",
       "      <td>Category 1</td>\n",
       "      <td>India</td>\n",
       "      <td>Bareilly</td>\n",
       "      <td>shital</td>\n",
       "      <td>CEO/Chairman/President</td>\n",
       "      <td>charlesrivera@durhamcrawford.com</td>\n",
       "      <td>Commercial/residential surveyor</td>\n",
       "      <td>Contact Email</td>\n",
       "      <td>Level 3</td>\n",
       "      <td>more than a month</td>\n",
       "      <td>Morsy,Omar A</td>\n",
       "      <td>No</td>\n",
       "      <td>5.0</td>\n",
       "    </tr>\n",
       "    <tr>\n",
       "      <th>4</th>\n",
       "      <td>Title5VGWW</td>\n",
       "      <td>Simpson, Duncan and Long LLC</td>\n",
       "      <td>Real Estate</td>\n",
       "      <td>392835.0</td>\n",
       "      <td>2.455219e+06</td>\n",
       "      <td>2020-10-25</td>\n",
       "      <td>Product_1</td>\n",
       "      <td>718-032-5726x76098</td>\n",
       "      <td>500 Million - 1 Billion</td>\n",
       "      <td>Category 3</td>\n",
       "      <td>USA</td>\n",
       "      <td>Trenton, NJ</td>\n",
       "      <td>Shelly Stephenson</td>\n",
       "      <td>CEO/Co-Founder/Chairman</td>\n",
       "      <td>shellystephenson@simpson.com</td>\n",
       "      <td>Wellsite geologist</td>\n",
       "      <td>Others</td>\n",
       "      <td>Level 3</td>\n",
       "      <td>More than 2 weeks</td>\n",
       "      <td>Morsy,Omar A</td>\n",
       "      <td>Deliverable</td>\n",
       "      <td>2.0</td>\n",
       "    </tr>\n",
       "  </tbody>\n",
       "</table>\n",
       "</div>"
      ],
      "text/plain": [
       "   Deal_title                       Lead_name                   Industry  \\\n",
       "0  TitleAD16O                 Bonilla Ltd Inc  Investment Bank/Brokerage   \n",
       "1  TitleOW6CR  Williams, Rogers and Roach PLC                Electronics   \n",
       "2  TitleVVJQ5    Wood, Vaughn and Morales Ltd                      Banks   \n",
       "3  TitleUS8NA             Durham-Crawford Inc                      Music   \n",
       "4  Title5VGWW    Simpson, Duncan and Long LLC                Real Estate   \n",
       "\n",
       "   Deal_value  Weighted_amount Date_of_creation      Pitch  \\\n",
       "0    200988.0     1.556917e+06       2020-04-15  Product_1   \n",
       "1    409961.0     2.541758e+06       2021-01-23  Product_1   \n",
       "2    434433.0     3.041031e+06       2020-07-19  Product_1   \n",
       "3    218952.0     1.521716e+06       2020-02-27  Product_2   \n",
       "4    392835.0     2.455219e+06       2020-10-25  Product_1   \n",
       "\n",
       "              Contact_no             Lead_revenue Fund_category Geography  \\\n",
       "0       167.332.2751x989        100 - 500 Million    Category 4     India   \n",
       "1  001-486-903-0711x7831        100 - 500 Million    Category 3       USA   \n",
       "2     (393)104-2610x9723        100 - 500 Million    Category 1       USA   \n",
       "3          (817)040-4599        100 - 500 Million    Category 1     India   \n",
       "4     718-032-5726x76098  500 Million - 1 Billion    Category 3       USA   \n",
       "\n",
       "                      Location           POC_name  \\\n",
       "0                 Bhubaneshwar              sonia   \n",
       "1            Coeur d'Alene, ID        Daniel Bell   \n",
       "2  Portland-South Portland, ME       Andrew Davis   \n",
       "3                     Bareilly             shital   \n",
       "4                  Trenton, NJ  Shelly Stephenson   \n",
       "\n",
       "                         Designation                    Lead_POC_email  \\\n",
       "0             Chairman/CEO/President         maureenthomas@bonilla.com   \n",
       "1            CEO/Co-Founder/Chairman           danielbell@williams.com   \n",
       "2  Chairman/Chief Innovation Officer              andrewdavis@wood.com   \n",
       "3             CEO/Chairman/President  charlesrivera@durhamcrawford.com   \n",
       "4            CEO/Co-Founder/Chairman      shellystephenson@simpson.com   \n",
       "\n",
       "             Hiring_candidate_role      Lead_source Level_of_meeting  \\\n",
       "0       Designer, fashion/clothing  Marketing Event          Level 1   \n",
       "1         Horticultural consultant  Marketing Event          Level 2   \n",
       "2              Information officer  Marketing Event          Level 2   \n",
       "3  Commercial/residential surveyor    Contact Email          Level 3   \n",
       "4               Wellsite geologist           Others          Level 3   \n",
       "\n",
       "                  Last_lead_update      Internal_POC     Resource  \\\n",
       "0                more than a month  Massiah,Gerard F           No   \n",
       "1                       Up-to-date    Smith,Keenan H          Yes   \n",
       "2  Did not hear back after Level 1     Gilley,Janine  Deliverable   \n",
       "3                more than a month      Morsy,Omar A           No   \n",
       "4                More than 2 weeks      Morsy,Omar A  Deliverable   \n",
       "\n",
       "   Internal_rating  \n",
       "0             -1.0  \n",
       "1              1.0  \n",
       "2              5.0  \n",
       "3              5.0  \n",
       "4              2.0  "
      ]
     },
     "execution_count": 227,
     "metadata": {},
     "output_type": "execute_result"
    }
   ],
   "source": [
    "#lets start with encoding.\n",
    "data.head()"
   ]
  },
  {
   "cell_type": "code",
   "execution_count": 228,
   "id": "developing-insert",
   "metadata": {},
   "outputs": [],
   "source": [
    "#Starting from first to all variables\n",
    "data[\"Lead_name\"]= lab_encod.fit_transform(data[\"Lead_name\"])"
   ]
  },
  {
   "cell_type": "code",
   "execution_count": 229,
   "id": "joint-queue",
   "metadata": {},
   "outputs": [
    {
     "data": {
      "text/plain": [
       "(138,)"
      ]
     },
     "execution_count": 229,
     "metadata": {},
     "output_type": "execute_result"
    }
   ],
   "source": [
    "#Count of unique values in Industry column\n",
    "data[\"Industry\"].unique().shape"
   ]
  },
  {
   "cell_type": "code",
   "execution_count": 230,
   "id": "greek-caribbean",
   "metadata": {},
   "outputs": [],
   "source": [
    "#lets label encode them\n",
    "data[\"Industry\"]= lab_encod.fit_transform(data[\"Industry\"])"
   ]
  },
  {
   "cell_type": "code",
   "execution_count": 231,
   "id": "becoming-throw",
   "metadata": {},
   "outputs": [
    {
     "data": {
      "text/plain": [
       "array(['Product_1', 'Product_2'], dtype=object)"
      ]
     },
     "execution_count": 231,
     "metadata": {},
     "output_type": "execute_result"
    }
   ],
   "source": [
    "##Count of unique values in Pitch column\n",
    "data[\"Pitch\"].unique()"
   ]
  },
  {
   "cell_type": "code",
   "execution_count": 232,
   "id": "impressive-reward",
   "metadata": {},
   "outputs": [],
   "source": [
    "data[\"Pitch\"]= lab_encod.fit_transform(data[\"Pitch\"])"
   ]
  },
  {
   "cell_type": "code",
   "execution_count": 233,
   "id": "confidential-mustang",
   "metadata": {},
   "outputs": [
    {
     "data": {
      "text/html": [
       "<div>\n",
       "<style scoped>\n",
       "    .dataframe tbody tr th:only-of-type {\n",
       "        vertical-align: middle;\n",
       "    }\n",
       "\n",
       "    .dataframe tbody tr th {\n",
       "        vertical-align: top;\n",
       "    }\n",
       "\n",
       "    .dataframe thead th {\n",
       "        text-align: right;\n",
       "    }\n",
       "</style>\n",
       "<table border=\"1\" class=\"dataframe\">\n",
       "  <thead>\n",
       "    <tr style=\"text-align: right;\">\n",
       "      <th></th>\n",
       "      <th>Deal_title</th>\n",
       "      <th>Lead_name</th>\n",
       "      <th>Industry</th>\n",
       "      <th>Deal_value</th>\n",
       "      <th>Weighted_amount</th>\n",
       "      <th>Date_of_creation</th>\n",
       "      <th>Pitch</th>\n",
       "      <th>Contact_no</th>\n",
       "      <th>Lead_revenue</th>\n",
       "      <th>Fund_category</th>\n",
       "      <th>Geography</th>\n",
       "      <th>Location</th>\n",
       "      <th>POC_name</th>\n",
       "      <th>Designation</th>\n",
       "      <th>Lead_POC_email</th>\n",
       "      <th>Hiring_candidate_role</th>\n",
       "      <th>Lead_source</th>\n",
       "      <th>Level_of_meeting</th>\n",
       "      <th>Last_lead_update</th>\n",
       "      <th>Internal_POC</th>\n",
       "      <th>Resource</th>\n",
       "      <th>Internal_rating</th>\n",
       "    </tr>\n",
       "  </thead>\n",
       "  <tbody>\n",
       "    <tr>\n",
       "      <th>0</th>\n",
       "      <td>TitleAD16O</td>\n",
       "      <td>143</td>\n",
       "      <td>55</td>\n",
       "      <td>200988.0</td>\n",
       "      <td>1.556917e+06</td>\n",
       "      <td>2020-04-15</td>\n",
       "      <td>0</td>\n",
       "      <td>167.332.2751x989</td>\n",
       "      <td>100 - 500 Million</td>\n",
       "      <td>Category 4</td>\n",
       "      <td>India</td>\n",
       "      <td>Bhubaneshwar</td>\n",
       "      <td>sonia</td>\n",
       "      <td>Chairman/CEO/President</td>\n",
       "      <td>maureenthomas@bonilla.com</td>\n",
       "      <td>Designer, fashion/clothing</td>\n",
       "      <td>Marketing Event</td>\n",
       "      <td>Level 1</td>\n",
       "      <td>more than a month</td>\n",
       "      <td>Massiah,Gerard F</td>\n",
       "      <td>No</td>\n",
       "      <td>-1.0</td>\n",
       "    </tr>\n",
       "    <tr>\n",
       "      <th>1</th>\n",
       "      <td>TitleOW6CR</td>\n",
       "      <td>2012</td>\n",
       "      <td>30</td>\n",
       "      <td>409961.0</td>\n",
       "      <td>2.541758e+06</td>\n",
       "      <td>2021-01-23</td>\n",
       "      <td>0</td>\n",
       "      <td>001-486-903-0711x7831</td>\n",
       "      <td>100 - 500 Million</td>\n",
       "      <td>Category 3</td>\n",
       "      <td>USA</td>\n",
       "      <td>Coeur d'Alene, ID</td>\n",
       "      <td>Daniel Bell</td>\n",
       "      <td>CEO/Co-Founder/Chairman</td>\n",
       "      <td>danielbell@williams.com</td>\n",
       "      <td>Horticultural consultant</td>\n",
       "      <td>Marketing Event</td>\n",
       "      <td>Level 2</td>\n",
       "      <td>Up-to-date</td>\n",
       "      <td>Smith,Keenan H</td>\n",
       "      <td>Yes</td>\n",
       "      <td>1.0</td>\n",
       "    </tr>\n",
       "    <tr>\n",
       "      <th>2</th>\n",
       "      <td>TitleVVJQ5</td>\n",
       "      <td>2056</td>\n",
       "      <td>13</td>\n",
       "      <td>434433.0</td>\n",
       "      <td>3.041031e+06</td>\n",
       "      <td>2020-07-19</td>\n",
       "      <td>0</td>\n",
       "      <td>(393)104-2610x9723</td>\n",
       "      <td>100 - 500 Million</td>\n",
       "      <td>Category 1</td>\n",
       "      <td>USA</td>\n",
       "      <td>Portland-South Portland, ME</td>\n",
       "      <td>Andrew Davis</td>\n",
       "      <td>Chairman/Chief Innovation Officer</td>\n",
       "      <td>andrewdavis@wood.com</td>\n",
       "      <td>Information officer</td>\n",
       "      <td>Marketing Event</td>\n",
       "      <td>Level 2</td>\n",
       "      <td>Did not hear back after Level 1</td>\n",
       "      <td>Gilley,Janine</td>\n",
       "      <td>Deliverable</td>\n",
       "      <td>5.0</td>\n",
       "    </tr>\n",
       "    <tr>\n",
       "      <th>3</th>\n",
       "      <td>TitleUS8NA</td>\n",
       "      <td>458</td>\n",
       "      <td>69</td>\n",
       "      <td>218952.0</td>\n",
       "      <td>1.521716e+06</td>\n",
       "      <td>2020-02-27</td>\n",
       "      <td>1</td>\n",
       "      <td>(817)040-4599</td>\n",
       "      <td>100 - 500 Million</td>\n",
       "      <td>Category 1</td>\n",
       "      <td>India</td>\n",
       "      <td>Bareilly</td>\n",
       "      <td>shital</td>\n",
       "      <td>CEO/Chairman/President</td>\n",
       "      <td>charlesrivera@durhamcrawford.com</td>\n",
       "      <td>Commercial/residential surveyor</td>\n",
       "      <td>Contact Email</td>\n",
       "      <td>Level 3</td>\n",
       "      <td>more than a month</td>\n",
       "      <td>Morsy,Omar A</td>\n",
       "      <td>No</td>\n",
       "      <td>5.0</td>\n",
       "    </tr>\n",
       "    <tr>\n",
       "      <th>4</th>\n",
       "      <td>Title5VGWW</td>\n",
       "      <td>1716</td>\n",
       "      <td>95</td>\n",
       "      <td>392835.0</td>\n",
       "      <td>2.455219e+06</td>\n",
       "      <td>2020-10-25</td>\n",
       "      <td>0</td>\n",
       "      <td>718-032-5726x76098</td>\n",
       "      <td>500 Million - 1 Billion</td>\n",
       "      <td>Category 3</td>\n",
       "      <td>USA</td>\n",
       "      <td>Trenton, NJ</td>\n",
       "      <td>Shelly Stephenson</td>\n",
       "      <td>CEO/Co-Founder/Chairman</td>\n",
       "      <td>shellystephenson@simpson.com</td>\n",
       "      <td>Wellsite geologist</td>\n",
       "      <td>Others</td>\n",
       "      <td>Level 3</td>\n",
       "      <td>More than 2 weeks</td>\n",
       "      <td>Morsy,Omar A</td>\n",
       "      <td>Deliverable</td>\n",
       "      <td>2.0</td>\n",
       "    </tr>\n",
       "  </tbody>\n",
       "</table>\n",
       "</div>"
      ],
      "text/plain": [
       "   Deal_title  Lead_name  Industry  Deal_value  Weighted_amount  \\\n",
       "0  TitleAD16O        143        55    200988.0     1.556917e+06   \n",
       "1  TitleOW6CR       2012        30    409961.0     2.541758e+06   \n",
       "2  TitleVVJQ5       2056        13    434433.0     3.041031e+06   \n",
       "3  TitleUS8NA        458        69    218952.0     1.521716e+06   \n",
       "4  Title5VGWW       1716        95    392835.0     2.455219e+06   \n",
       "\n",
       "  Date_of_creation  Pitch             Contact_no             Lead_revenue  \\\n",
       "0       2020-04-15      0       167.332.2751x989        100 - 500 Million   \n",
       "1       2021-01-23      0  001-486-903-0711x7831        100 - 500 Million   \n",
       "2       2020-07-19      0     (393)104-2610x9723        100 - 500 Million   \n",
       "3       2020-02-27      1          (817)040-4599        100 - 500 Million   \n",
       "4       2020-10-25      0     718-032-5726x76098  500 Million - 1 Billion   \n",
       "\n",
       "  Fund_category Geography                     Location           POC_name  \\\n",
       "0    Category 4     India                 Bhubaneshwar              sonia   \n",
       "1    Category 3       USA            Coeur d'Alene, ID        Daniel Bell   \n",
       "2    Category 1       USA  Portland-South Portland, ME       Andrew Davis   \n",
       "3    Category 1     India                     Bareilly             shital   \n",
       "4    Category 3       USA                  Trenton, NJ  Shelly Stephenson   \n",
       "\n",
       "                         Designation                    Lead_POC_email  \\\n",
       "0             Chairman/CEO/President         maureenthomas@bonilla.com   \n",
       "1            CEO/Co-Founder/Chairman           danielbell@williams.com   \n",
       "2  Chairman/Chief Innovation Officer              andrewdavis@wood.com   \n",
       "3             CEO/Chairman/President  charlesrivera@durhamcrawford.com   \n",
       "4            CEO/Co-Founder/Chairman      shellystephenson@simpson.com   \n",
       "\n",
       "             Hiring_candidate_role      Lead_source Level_of_meeting  \\\n",
       "0       Designer, fashion/clothing  Marketing Event          Level 1   \n",
       "1         Horticultural consultant  Marketing Event          Level 2   \n",
       "2              Information officer  Marketing Event          Level 2   \n",
       "3  Commercial/residential surveyor    Contact Email          Level 3   \n",
       "4               Wellsite geologist           Others          Level 3   \n",
       "\n",
       "                  Last_lead_update      Internal_POC     Resource  \\\n",
       "0                more than a month  Massiah,Gerard F           No   \n",
       "1                       Up-to-date    Smith,Keenan H          Yes   \n",
       "2  Did not hear back after Level 1     Gilley,Janine  Deliverable   \n",
       "3                more than a month      Morsy,Omar A           No   \n",
       "4                More than 2 weeks      Morsy,Omar A  Deliverable   \n",
       "\n",
       "   Internal_rating  \n",
       "0             -1.0  \n",
       "1              1.0  \n",
       "2              5.0  \n",
       "3              5.0  \n",
       "4              2.0  "
      ]
     },
     "execution_count": 233,
     "metadata": {},
     "output_type": "execute_result"
    }
   ],
   "source": [
    "data.head()"
   ]
  },
  {
   "cell_type": "code",
   "execution_count": 234,
   "id": "random-integrity",
   "metadata": {},
   "outputs": [
    {
     "data": {
      "text/plain": [
       "array(['100 - 500 Million', '500 Million - 1 Billion', '50 - 100 Million'],\n",
       "      dtype=object)"
      ]
     },
     "execution_count": 234,
     "metadata": {},
     "output_type": "execute_result"
    }
   ],
   "source": [
    "#we will drop contact number later.\n",
    "data[\"Lead_revenue\"].unique()"
   ]
  },
  {
   "cell_type": "code",
   "execution_count": 235,
   "id": "functioning-walnut",
   "metadata": {},
   "outputs": [],
   "source": [
    "#dummy encode lead revenue\n",
    "data= pd.get_dummies(data,columns=[\"Lead_revenue\"], drop_first=True)"
   ]
  },
  {
   "cell_type": "code",
   "execution_count": 236,
   "id": "level-mainstream",
   "metadata": {},
   "outputs": [
    {
     "data": {
      "text/plain": [
       "array(['Category 4', 'Category 3', 'Category 1', 'Category 2'],\n",
       "      dtype=object)"
      ]
     },
     "execution_count": 236,
     "metadata": {},
     "output_type": "execute_result"
    }
   ],
   "source": [
    "# fund category\n",
    "data.Fund_category.unique()"
   ]
  },
  {
   "cell_type": "code",
   "execution_count": 237,
   "id": "reflected-sixth",
   "metadata": {},
   "outputs": [],
   "source": [
    "data[\"Fund_category\"]= lab_encod.fit_transform(data[\"Fund_category\"])"
   ]
  },
  {
   "cell_type": "code",
   "execution_count": 238,
   "id": "aboriginal-thanks",
   "metadata": {},
   "outputs": [],
   "source": [
    "#label encode Geography\n",
    "data[\"Geography\"]= lab_encod.fit_transform(data[\"Geography\"])"
   ]
  },
  {
   "cell_type": "code",
   "execution_count": 239,
   "id": "clinical-strength",
   "metadata": {},
   "outputs": [
    {
     "data": {
      "text/plain": [
       "(565,)"
      ]
     },
     "execution_count": 239,
     "metadata": {},
     "output_type": "execute_result"
    }
   ],
   "source": [
    "#label encode Location\n",
    "data.Location.unique().shape"
   ]
  },
  {
   "cell_type": "code",
   "execution_count": 240,
   "id": "intended-genius",
   "metadata": {},
   "outputs": [],
   "source": [
    "#label encode Location\n",
    "data[\"Location\"]= lab_encod.fit_transform(data[\"Location\"])"
   ]
  },
  {
   "cell_type": "code",
   "execution_count": 241,
   "id": "billion-style",
   "metadata": {},
   "outputs": [
    {
     "data": {
      "text/plain": [
       "(1745,)"
      ]
     },
     "execution_count": 241,
     "metadata": {},
     "output_type": "execute_result"
    }
   ],
   "source": [
    "data.POC_name.unique().shape\n",
    "#i dont thik POC name is of much use. so we will drop it"
   ]
  },
  {
   "cell_type": "code",
   "execution_count": 242,
   "id": "gross-cookie",
   "metadata": {},
   "outputs": [],
   "source": [
    "# Hiring_candidate_role as it can be a good feature\n",
    "#label encode Hiring_candidate_role\n",
    "data[\"Hiring_candidate_role\"]= lab_encod.fit_transform(data[\"Hiring_candidate_role\"])"
   ]
  },
  {
   "cell_type": "code",
   "execution_count": 156,
   "id": "spare-horse",
   "metadata": {},
   "outputs": [
    {
     "data": {
      "text/plain": [
       "array(['Marketing Event', 'Contact Email', 'Others', 'Website'],\n",
       "      dtype=object)"
      ]
     },
     "execution_count": 156,
     "metadata": {},
     "output_type": "execute_result"
    }
   ],
   "source": [
    "#how much unique values Lead_source have \n",
    "data.Lead_source.unique()"
   ]
  },
  {
   "cell_type": "code",
   "execution_count": 243,
   "id": "directed-webmaster",
   "metadata": {},
   "outputs": [],
   "source": [
    "#label encode Lead_source\n",
    "data[\"Lead_source\"]= lab_encod.fit_transform(data[\"Lead_source\"])"
   ]
  },
  {
   "cell_type": "code",
   "execution_count": 244,
   "id": "instant-edmonton",
   "metadata": {},
   "outputs": [
    {
     "data": {
      "text/plain": [
       "array(['Level 1', 'Level 2', 'Level 3'], dtype=object)"
      ]
     },
     "execution_count": 244,
     "metadata": {},
     "output_type": "execute_result"
    }
   ],
   "source": [
    "data.Level_of_meeting.unique()"
   ]
  },
  {
   "cell_type": "code",
   "execution_count": 245,
   "id": "southwest-necessity",
   "metadata": {},
   "outputs": [],
   "source": [
    "#level of meating is an important topic to be considered. thus we will encode tem using get dummies to create feature.\n",
    "data= pd.get_dummies(data,columns=[\"Level_of_meeting\"], drop_first=True)"
   ]
  },
  {
   "cell_type": "code",
   "execution_count": 246,
   "id": "sapphire-institute",
   "metadata": {},
   "outputs": [
    {
     "data": {
      "text/plain": [
       "array(['more than a month', 'Up-to-date',\n",
       "       'Did not hear back after Level 1', 'More than 2 weeks', 'Pending',\n",
       "       'Following up but lead not responding', '5 days back', 'No track',\n",
       "       '?', '2 days back', 'More than a week back'], dtype=object)"
      ]
     },
     "execution_count": 246,
     "metadata": {},
     "output_type": "execute_result"
    }
   ],
   "source": [
    "data.Last_lead_update.unique()"
   ]
  },
  {
   "cell_type": "code",
   "execution_count": 247,
   "id": "dynamic-tradition",
   "metadata": {},
   "outputs": [],
   "source": [
    "#label encode Designation\n",
    "data[\"Designation\"]= lab_encod.fit_transform(data[\"Designation\"])"
   ]
  },
  {
   "cell_type": "code",
   "execution_count": 248,
   "id": "egyptian-process",
   "metadata": {},
   "outputs": [],
   "source": [
    "#label encode Last_lead_update\n",
    "data[\"Last_lead_update\"]= lab_encod.fit_transform(data[\"Last_lead_update\"])"
   ]
  },
  {
   "cell_type": "code",
   "execution_count": 249,
   "id": "competitive-carroll",
   "metadata": {},
   "outputs": [],
   "source": [
    "#label encode Last_lead_update\n",
    "data[\"Internal_POC\"]= lab_encod.fit_transform(data[\"Internal_POC\"])"
   ]
  },
  {
   "cell_type": "code",
   "execution_count": 250,
   "id": "periodic-teens",
   "metadata": {},
   "outputs": [],
   "source": [
    "#label encode Last_lead_update\n",
    "data[\"Resource\"]= lab_encod.fit_transform(data[\"Resource\"])"
   ]
  },
  {
   "cell_type": "code",
   "execution_count": 251,
   "id": "frequent-wichita",
   "metadata": {},
   "outputs": [],
   "source": [
    "#lets also encode POC_name \n",
    "data[\"POC_name\"]= lab_encod.fit_transform(data[\"POC_name\"])"
   ]
  },
  {
   "cell_type": "code",
   "execution_count": 252,
   "id": "alien-cache",
   "metadata": {},
   "outputs": [],
   "source": [
    "data[\"Date_of_creation\"]= lab_encod.fit_transform(data[\"Date_of_creation\"])"
   ]
  },
  {
   "cell_type": "code",
   "execution_count": 253,
   "id": "exotic-summary",
   "metadata": {},
   "outputs": [
    {
     "data": {
      "text/html": [
       "<div>\n",
       "<style scoped>\n",
       "    .dataframe tbody tr th:only-of-type {\n",
       "        vertical-align: middle;\n",
       "    }\n",
       "\n",
       "    .dataframe tbody tr th {\n",
       "        vertical-align: top;\n",
       "    }\n",
       "\n",
       "    .dataframe thead th {\n",
       "        text-align: right;\n",
       "    }\n",
       "</style>\n",
       "<table border=\"1\" class=\"dataframe\">\n",
       "  <thead>\n",
       "    <tr style=\"text-align: right;\">\n",
       "      <th></th>\n",
       "      <th>Deal_title</th>\n",
       "      <th>Lead_name</th>\n",
       "      <th>Industry</th>\n",
       "      <th>Deal_value</th>\n",
       "      <th>Weighted_amount</th>\n",
       "      <th>Date_of_creation</th>\n",
       "      <th>Pitch</th>\n",
       "      <th>Contact_no</th>\n",
       "      <th>Fund_category</th>\n",
       "      <th>Geography</th>\n",
       "      <th>Location</th>\n",
       "      <th>POC_name</th>\n",
       "      <th>Designation</th>\n",
       "      <th>Lead_POC_email</th>\n",
       "      <th>Hiring_candidate_role</th>\n",
       "      <th>Lead_source</th>\n",
       "      <th>Last_lead_update</th>\n",
       "      <th>Internal_POC</th>\n",
       "      <th>Resource</th>\n",
       "      <th>Internal_rating</th>\n",
       "      <th>Lead_revenue_50 - 100 Million</th>\n",
       "      <th>Lead_revenue_500 Million - 1 Billion</th>\n",
       "      <th>Level_of_meeting_Level 2</th>\n",
       "      <th>Level_of_meeting_Level 3</th>\n",
       "    </tr>\n",
       "  </thead>\n",
       "  <tbody>\n",
       "    <tr>\n",
       "      <th>0</th>\n",
       "      <td>TitleAD16O</td>\n",
       "      <td>143</td>\n",
       "      <td>55</td>\n",
       "      <td>200988.0</td>\n",
       "      <td>1.556917e+06</td>\n",
       "      <td>427</td>\n",
       "      <td>0</td>\n",
       "      <td>167.332.2751x989</td>\n",
       "      <td>3</td>\n",
       "      <td>0</td>\n",
       "      <td>68</td>\n",
       "      <td>1666</td>\n",
       "      <td>4</td>\n",
       "      <td>maureenthomas@bonilla.com</td>\n",
       "      <td>151</td>\n",
       "      <td>1</td>\n",
       "      <td>10</td>\n",
       "      <td>38</td>\n",
       "      <td>2</td>\n",
       "      <td>-1.0</td>\n",
       "      <td>0</td>\n",
       "      <td>0</td>\n",
       "      <td>0</td>\n",
       "      <td>0</td>\n",
       "    </tr>\n",
       "    <tr>\n",
       "      <th>1</th>\n",
       "      <td>TitleOW6CR</td>\n",
       "      <td>2012</td>\n",
       "      <td>30</td>\n",
       "      <td>409961.0</td>\n",
       "      <td>2.541758e+06</td>\n",
       "      <td>698</td>\n",
       "      <td>0</td>\n",
       "      <td>001-486-903-0711x7831</td>\n",
       "      <td>2</td>\n",
       "      <td>1</td>\n",
       "      <td>122</td>\n",
       "      <td>220</td>\n",
       "      <td>2</td>\n",
       "      <td>danielbell@williams.com</td>\n",
       "      <td>286</td>\n",
       "      <td>1</td>\n",
       "      <td>9</td>\n",
       "      <td>51</td>\n",
       "      <td>5</td>\n",
       "      <td>1.0</td>\n",
       "      <td>0</td>\n",
       "      <td>0</td>\n",
       "      <td>1</td>\n",
       "      <td>0</td>\n",
       "    </tr>\n",
       "    <tr>\n",
       "      <th>2</th>\n",
       "      <td>TitleVVJQ5</td>\n",
       "      <td>2056</td>\n",
       "      <td>13</td>\n",
       "      <td>434433.0</td>\n",
       "      <td>3.041031e+06</td>\n",
       "      <td>519</td>\n",
       "      <td>0</td>\n",
       "      <td>(393)104-2610x9723</td>\n",
       "      <td>0</td>\n",
       "      <td>1</td>\n",
       "      <td>409</td>\n",
       "      <td>44</td>\n",
       "      <td>5</td>\n",
       "      <td>andrewdavis@wood.com</td>\n",
       "      <td>307</td>\n",
       "      <td>1</td>\n",
       "      <td>3</td>\n",
       "      <td>19</td>\n",
       "      <td>1</td>\n",
       "      <td>5.0</td>\n",
       "      <td>0</td>\n",
       "      <td>0</td>\n",
       "      <td>1</td>\n",
       "      <td>0</td>\n",
       "    </tr>\n",
       "    <tr>\n",
       "      <th>3</th>\n",
       "      <td>TitleUS8NA</td>\n",
       "      <td>458</td>\n",
       "      <td>69</td>\n",
       "      <td>218952.0</td>\n",
       "      <td>1.521716e+06</td>\n",
       "      <td>385</td>\n",
       "      <td>1</td>\n",
       "      <td>(817)040-4599</td>\n",
       "      <td>0</td>\n",
       "      <td>0</td>\n",
       "      <td>48</td>\n",
       "      <td>1583</td>\n",
       "      <td>1</td>\n",
       "      <td>charlesrivera@durhamcrawford.com</td>\n",
       "      <td>115</td>\n",
       "      <td>0</td>\n",
       "      <td>10</td>\n",
       "      <td>42</td>\n",
       "      <td>2</td>\n",
       "      <td>5.0</td>\n",
       "      <td>0</td>\n",
       "      <td>0</td>\n",
       "      <td>0</td>\n",
       "      <td>1</td>\n",
       "    </tr>\n",
       "    <tr>\n",
       "      <th>4</th>\n",
       "      <td>Title5VGWW</td>\n",
       "      <td>1716</td>\n",
       "      <td>95</td>\n",
       "      <td>392835.0</td>\n",
       "      <td>2.455219e+06</td>\n",
       "      <td>610</td>\n",
       "      <td>0</td>\n",
       "      <td>718-032-5726x76098</td>\n",
       "      <td>2</td>\n",
       "      <td>1</td>\n",
       "      <td>522</td>\n",
       "      <td>901</td>\n",
       "      <td>2</td>\n",
       "      <td>shellystephenson@simpson.com</td>\n",
       "      <td>615</td>\n",
       "      <td>2</td>\n",
       "      <td>5</td>\n",
       "      <td>42</td>\n",
       "      <td>1</td>\n",
       "      <td>2.0</td>\n",
       "      <td>0</td>\n",
       "      <td>1</td>\n",
       "      <td>0</td>\n",
       "      <td>1</td>\n",
       "    </tr>\n",
       "  </tbody>\n",
       "</table>\n",
       "</div>"
      ],
      "text/plain": [
       "   Deal_title  Lead_name  Industry  Deal_value  Weighted_amount  \\\n",
       "0  TitleAD16O        143        55    200988.0     1.556917e+06   \n",
       "1  TitleOW6CR       2012        30    409961.0     2.541758e+06   \n",
       "2  TitleVVJQ5       2056        13    434433.0     3.041031e+06   \n",
       "3  TitleUS8NA        458        69    218952.0     1.521716e+06   \n",
       "4  Title5VGWW       1716        95    392835.0     2.455219e+06   \n",
       "\n",
       "   Date_of_creation  Pitch             Contact_no  Fund_category  Geography  \\\n",
       "0               427      0       167.332.2751x989              3          0   \n",
       "1               698      0  001-486-903-0711x7831              2          1   \n",
       "2               519      0     (393)104-2610x9723              0          1   \n",
       "3               385      1          (817)040-4599              0          0   \n",
       "4               610      0     718-032-5726x76098              2          1   \n",
       "\n",
       "   Location  POC_name  Designation                    Lead_POC_email  \\\n",
       "0        68      1666            4         maureenthomas@bonilla.com   \n",
       "1       122       220            2           danielbell@williams.com   \n",
       "2       409        44            5              andrewdavis@wood.com   \n",
       "3        48      1583            1  charlesrivera@durhamcrawford.com   \n",
       "4       522       901            2      shellystephenson@simpson.com   \n",
       "\n",
       "   Hiring_candidate_role  Lead_source  Last_lead_update  Internal_POC  \\\n",
       "0                    151            1                10            38   \n",
       "1                    286            1                 9            51   \n",
       "2                    307            1                 3            19   \n",
       "3                    115            0                10            42   \n",
       "4                    615            2                 5            42   \n",
       "\n",
       "   Resource  Internal_rating  Lead_revenue_50 - 100 Million  \\\n",
       "0         2             -1.0                              0   \n",
       "1         5              1.0                              0   \n",
       "2         1              5.0                              0   \n",
       "3         2              5.0                              0   \n",
       "4         1              2.0                              0   \n",
       "\n",
       "   Lead_revenue_500 Million - 1 Billion  Level_of_meeting_Level 2  \\\n",
       "0                                     0                         0   \n",
       "1                                     0                         1   \n",
       "2                                     0                         1   \n",
       "3                                     0                         0   \n",
       "4                                     1                         0   \n",
       "\n",
       "   Level_of_meeting_Level 3  \n",
       "0                         0  \n",
       "1                         0  \n",
       "2                         0  \n",
       "3                         1  \n",
       "4                         1  "
      ]
     },
     "execution_count": 253,
     "metadata": {},
     "output_type": "execute_result"
    }
   ],
   "source": [
    "data.head()"
   ]
  },
  {
   "cell_type": "code",
   "execution_count": null,
   "id": "loving-burning",
   "metadata": {},
   "outputs": [],
   "source": [
    "test = "
   ]
  },
  {
   "cell_type": "code",
   "execution_count": 254,
   "id": "retired-monte",
   "metadata": {},
   "outputs": [],
   "source": [
    "fdata=data.reindex(['Deal_title','Industry', 'Deal_value', 'Weighted_amount','Date_of_creation',\n",
    "       'Pitch', 'Fund_category', 'Geography', 'Location', 'POC_name',\n",
    "       'Designation', 'Hiring_candidate_role', 'Lead_source',\n",
    "       'Last_lead_update', 'Internal_POC', 'Resource', 'Internal_rating','Lead_revenue_50 - 100 Million',\n",
    "       'Lead_revenue_500 Million - 1 Billion', 'Level_of_meeting_Level 2',\n",
    "       'Level_of_meeting_Level 3'], axis=1)"
   ]
  },
  {
   "cell_type": "code",
   "execution_count": 255,
   "id": "about-potter",
   "metadata": {},
   "outputs": [
    {
     "data": {
      "text/html": [
       "<div>\n",
       "<style scoped>\n",
       "    .dataframe tbody tr th:only-of-type {\n",
       "        vertical-align: middle;\n",
       "    }\n",
       "\n",
       "    .dataframe tbody tr th {\n",
       "        vertical-align: top;\n",
       "    }\n",
       "\n",
       "    .dataframe thead th {\n",
       "        text-align: right;\n",
       "    }\n",
       "</style>\n",
       "<table border=\"1\" class=\"dataframe\">\n",
       "  <thead>\n",
       "    <tr style=\"text-align: right;\">\n",
       "      <th></th>\n",
       "      <th>Deal_title</th>\n",
       "      <th>Industry</th>\n",
       "      <th>Deal_value</th>\n",
       "      <th>Weighted_amount</th>\n",
       "      <th>Date_of_creation</th>\n",
       "      <th>Pitch</th>\n",
       "      <th>Fund_category</th>\n",
       "      <th>Geography</th>\n",
       "      <th>Location</th>\n",
       "      <th>POC_name</th>\n",
       "      <th>Designation</th>\n",
       "      <th>Hiring_candidate_role</th>\n",
       "      <th>Lead_source</th>\n",
       "      <th>Last_lead_update</th>\n",
       "      <th>Internal_POC</th>\n",
       "      <th>Resource</th>\n",
       "      <th>Internal_rating</th>\n",
       "      <th>Lead_revenue_50 - 100 Million</th>\n",
       "      <th>Lead_revenue_500 Million - 1 Billion</th>\n",
       "      <th>Level_of_meeting_Level 2</th>\n",
       "      <th>Level_of_meeting_Level 3</th>\n",
       "    </tr>\n",
       "  </thead>\n",
       "  <tbody>\n",
       "    <tr>\n",
       "      <th>0</th>\n",
       "      <td>TitleAD16O</td>\n",
       "      <td>55</td>\n",
       "      <td>200988.0</td>\n",
       "      <td>1.556917e+06</td>\n",
       "      <td>427</td>\n",
       "      <td>0</td>\n",
       "      <td>3</td>\n",
       "      <td>0</td>\n",
       "      <td>68</td>\n",
       "      <td>1666</td>\n",
       "      <td>4</td>\n",
       "      <td>151</td>\n",
       "      <td>1</td>\n",
       "      <td>10</td>\n",
       "      <td>38</td>\n",
       "      <td>2</td>\n",
       "      <td>-1.0</td>\n",
       "      <td>0</td>\n",
       "      <td>0</td>\n",
       "      <td>0</td>\n",
       "      <td>0</td>\n",
       "    </tr>\n",
       "    <tr>\n",
       "      <th>1</th>\n",
       "      <td>TitleOW6CR</td>\n",
       "      <td>30</td>\n",
       "      <td>409961.0</td>\n",
       "      <td>2.541758e+06</td>\n",
       "      <td>698</td>\n",
       "      <td>0</td>\n",
       "      <td>2</td>\n",
       "      <td>1</td>\n",
       "      <td>122</td>\n",
       "      <td>220</td>\n",
       "      <td>2</td>\n",
       "      <td>286</td>\n",
       "      <td>1</td>\n",
       "      <td>9</td>\n",
       "      <td>51</td>\n",
       "      <td>5</td>\n",
       "      <td>1.0</td>\n",
       "      <td>0</td>\n",
       "      <td>0</td>\n",
       "      <td>1</td>\n",
       "      <td>0</td>\n",
       "    </tr>\n",
       "    <tr>\n",
       "      <th>2</th>\n",
       "      <td>TitleVVJQ5</td>\n",
       "      <td>13</td>\n",
       "      <td>434433.0</td>\n",
       "      <td>3.041031e+06</td>\n",
       "      <td>519</td>\n",
       "      <td>0</td>\n",
       "      <td>0</td>\n",
       "      <td>1</td>\n",
       "      <td>409</td>\n",
       "      <td>44</td>\n",
       "      <td>5</td>\n",
       "      <td>307</td>\n",
       "      <td>1</td>\n",
       "      <td>3</td>\n",
       "      <td>19</td>\n",
       "      <td>1</td>\n",
       "      <td>5.0</td>\n",
       "      <td>0</td>\n",
       "      <td>0</td>\n",
       "      <td>1</td>\n",
       "      <td>0</td>\n",
       "    </tr>\n",
       "    <tr>\n",
       "      <th>3</th>\n",
       "      <td>TitleUS8NA</td>\n",
       "      <td>69</td>\n",
       "      <td>218952.0</td>\n",
       "      <td>1.521716e+06</td>\n",
       "      <td>385</td>\n",
       "      <td>1</td>\n",
       "      <td>0</td>\n",
       "      <td>0</td>\n",
       "      <td>48</td>\n",
       "      <td>1583</td>\n",
       "      <td>1</td>\n",
       "      <td>115</td>\n",
       "      <td>0</td>\n",
       "      <td>10</td>\n",
       "      <td>42</td>\n",
       "      <td>2</td>\n",
       "      <td>5.0</td>\n",
       "      <td>0</td>\n",
       "      <td>0</td>\n",
       "      <td>0</td>\n",
       "      <td>1</td>\n",
       "    </tr>\n",
       "    <tr>\n",
       "      <th>4</th>\n",
       "      <td>Title5VGWW</td>\n",
       "      <td>95</td>\n",
       "      <td>392835.0</td>\n",
       "      <td>2.455219e+06</td>\n",
       "      <td>610</td>\n",
       "      <td>0</td>\n",
       "      <td>2</td>\n",
       "      <td>1</td>\n",
       "      <td>522</td>\n",
       "      <td>901</td>\n",
       "      <td>2</td>\n",
       "      <td>615</td>\n",
       "      <td>2</td>\n",
       "      <td>5</td>\n",
       "      <td>42</td>\n",
       "      <td>1</td>\n",
       "      <td>2.0</td>\n",
       "      <td>0</td>\n",
       "      <td>1</td>\n",
       "      <td>0</td>\n",
       "      <td>1</td>\n",
       "    </tr>\n",
       "  </tbody>\n",
       "</table>\n",
       "</div>"
      ],
      "text/plain": [
       "   Deal_title  Industry  Deal_value  Weighted_amount  Date_of_creation  Pitch  \\\n",
       "0  TitleAD16O        55    200988.0     1.556917e+06               427      0   \n",
       "1  TitleOW6CR        30    409961.0     2.541758e+06               698      0   \n",
       "2  TitleVVJQ5        13    434433.0     3.041031e+06               519      0   \n",
       "3  TitleUS8NA        69    218952.0     1.521716e+06               385      1   \n",
       "4  Title5VGWW        95    392835.0     2.455219e+06               610      0   \n",
       "\n",
       "   Fund_category  Geography  Location  POC_name  Designation  \\\n",
       "0              3          0        68      1666            4   \n",
       "1              2          1       122       220            2   \n",
       "2              0          1       409        44            5   \n",
       "3              0          0        48      1583            1   \n",
       "4              2          1       522       901            2   \n",
       "\n",
       "   Hiring_candidate_role  Lead_source  Last_lead_update  Internal_POC  \\\n",
       "0                    151            1                10            38   \n",
       "1                    286            1                 9            51   \n",
       "2                    307            1                 3            19   \n",
       "3                    115            0                10            42   \n",
       "4                    615            2                 5            42   \n",
       "\n",
       "   Resource  Internal_rating  Lead_revenue_50 - 100 Million  \\\n",
       "0         2             -1.0                              0   \n",
       "1         5              1.0                              0   \n",
       "2         1              5.0                              0   \n",
       "3         2              5.0                              0   \n",
       "4         1              2.0                              0   \n",
       "\n",
       "   Lead_revenue_500 Million - 1 Billion  Level_of_meeting_Level 2  \\\n",
       "0                                     0                         0   \n",
       "1                                     0                         1   \n",
       "2                                     0                         1   \n",
       "3                                     0                         0   \n",
       "4                                     1                         0   \n",
       "\n",
       "   Level_of_meeting_Level 3  \n",
       "0                         0  \n",
       "1                         0  \n",
       "2                         0  \n",
       "3                         1  \n",
       "4                         1  "
      ]
     },
     "execution_count": 255,
     "metadata": {},
     "output_type": "execute_result"
    }
   ],
   "source": [
    "fdata.head()"
   ]
  },
  {
   "cell_type": "code",
   "execution_count": 256,
   "id": "advised-workplace",
   "metadata": {},
   "outputs": [
    {
     "data": {
      "text/html": [
       "<div>\n",
       "<style scoped>\n",
       "    .dataframe tbody tr th:only-of-type {\n",
       "        vertical-align: middle;\n",
       "    }\n",
       "\n",
       "    .dataframe tbody tr th {\n",
       "        vertical-align: top;\n",
       "    }\n",
       "\n",
       "    .dataframe thead th {\n",
       "        text-align: right;\n",
       "    }\n",
       "</style>\n",
       "<table border=\"1\" class=\"dataframe\">\n",
       "  <thead>\n",
       "    <tr style=\"text-align: right;\">\n",
       "      <th></th>\n",
       "      <th>Industry</th>\n",
       "      <th>Deal_value</th>\n",
       "      <th>Weighted_amount</th>\n",
       "      <th>Date_of_creation</th>\n",
       "      <th>Pitch</th>\n",
       "      <th>Fund_category</th>\n",
       "      <th>Geography</th>\n",
       "      <th>Location</th>\n",
       "      <th>POC_name</th>\n",
       "      <th>Designation</th>\n",
       "      <th>Hiring_candidate_role</th>\n",
       "      <th>Lead_source</th>\n",
       "      <th>Last_lead_update</th>\n",
       "      <th>Internal_POC</th>\n",
       "      <th>Resource</th>\n",
       "      <th>Internal_rating</th>\n",
       "      <th>Lead_revenue_50 - 100 Million</th>\n",
       "      <th>Lead_revenue_500 Million - 1 Billion</th>\n",
       "      <th>Level_of_meeting_Level 2</th>\n",
       "      <th>Level_of_meeting_Level 3</th>\n",
       "    </tr>\n",
       "    <tr>\n",
       "      <th>Deal_title</th>\n",
       "      <th></th>\n",
       "      <th></th>\n",
       "      <th></th>\n",
       "      <th></th>\n",
       "      <th></th>\n",
       "      <th></th>\n",
       "      <th></th>\n",
       "      <th></th>\n",
       "      <th></th>\n",
       "      <th></th>\n",
       "      <th></th>\n",
       "      <th></th>\n",
       "      <th></th>\n",
       "      <th></th>\n",
       "      <th></th>\n",
       "      <th></th>\n",
       "      <th></th>\n",
       "      <th></th>\n",
       "      <th></th>\n",
       "      <th></th>\n",
       "    </tr>\n",
       "  </thead>\n",
       "  <tbody>\n",
       "    <tr>\n",
       "      <th>TitleAD16O</th>\n",
       "      <td>55</td>\n",
       "      <td>200988.0</td>\n",
       "      <td>1.556917e+06</td>\n",
       "      <td>427</td>\n",
       "      <td>0</td>\n",
       "      <td>3</td>\n",
       "      <td>0</td>\n",
       "      <td>68</td>\n",
       "      <td>1666</td>\n",
       "      <td>4</td>\n",
       "      <td>151</td>\n",
       "      <td>1</td>\n",
       "      <td>10</td>\n",
       "      <td>38</td>\n",
       "      <td>2</td>\n",
       "      <td>-1.0</td>\n",
       "      <td>0</td>\n",
       "      <td>0</td>\n",
       "      <td>0</td>\n",
       "      <td>0</td>\n",
       "    </tr>\n",
       "    <tr>\n",
       "      <th>TitleOW6CR</th>\n",
       "      <td>30</td>\n",
       "      <td>409961.0</td>\n",
       "      <td>2.541758e+06</td>\n",
       "      <td>698</td>\n",
       "      <td>0</td>\n",
       "      <td>2</td>\n",
       "      <td>1</td>\n",
       "      <td>122</td>\n",
       "      <td>220</td>\n",
       "      <td>2</td>\n",
       "      <td>286</td>\n",
       "      <td>1</td>\n",
       "      <td>9</td>\n",
       "      <td>51</td>\n",
       "      <td>5</td>\n",
       "      <td>1.0</td>\n",
       "      <td>0</td>\n",
       "      <td>0</td>\n",
       "      <td>1</td>\n",
       "      <td>0</td>\n",
       "    </tr>\n",
       "    <tr>\n",
       "      <th>TitleVVJQ5</th>\n",
       "      <td>13</td>\n",
       "      <td>434433.0</td>\n",
       "      <td>3.041031e+06</td>\n",
       "      <td>519</td>\n",
       "      <td>0</td>\n",
       "      <td>0</td>\n",
       "      <td>1</td>\n",
       "      <td>409</td>\n",
       "      <td>44</td>\n",
       "      <td>5</td>\n",
       "      <td>307</td>\n",
       "      <td>1</td>\n",
       "      <td>3</td>\n",
       "      <td>19</td>\n",
       "      <td>1</td>\n",
       "      <td>5.0</td>\n",
       "      <td>0</td>\n",
       "      <td>0</td>\n",
       "      <td>1</td>\n",
       "      <td>0</td>\n",
       "    </tr>\n",
       "    <tr>\n",
       "      <th>TitleUS8NA</th>\n",
       "      <td>69</td>\n",
       "      <td>218952.0</td>\n",
       "      <td>1.521716e+06</td>\n",
       "      <td>385</td>\n",
       "      <td>1</td>\n",
       "      <td>0</td>\n",
       "      <td>0</td>\n",
       "      <td>48</td>\n",
       "      <td>1583</td>\n",
       "      <td>1</td>\n",
       "      <td>115</td>\n",
       "      <td>0</td>\n",
       "      <td>10</td>\n",
       "      <td>42</td>\n",
       "      <td>2</td>\n",
       "      <td>5.0</td>\n",
       "      <td>0</td>\n",
       "      <td>0</td>\n",
       "      <td>0</td>\n",
       "      <td>1</td>\n",
       "    </tr>\n",
       "    <tr>\n",
       "      <th>Title5VGWW</th>\n",
       "      <td>95</td>\n",
       "      <td>392835.0</td>\n",
       "      <td>2.455219e+06</td>\n",
       "      <td>610</td>\n",
       "      <td>0</td>\n",
       "      <td>2</td>\n",
       "      <td>1</td>\n",
       "      <td>522</td>\n",
       "      <td>901</td>\n",
       "      <td>2</td>\n",
       "      <td>615</td>\n",
       "      <td>2</td>\n",
       "      <td>5</td>\n",
       "      <td>42</td>\n",
       "      <td>1</td>\n",
       "      <td>2.0</td>\n",
       "      <td>0</td>\n",
       "      <td>1</td>\n",
       "      <td>0</td>\n",
       "      <td>1</td>\n",
       "    </tr>\n",
       "  </tbody>\n",
       "</table>\n",
       "</div>"
      ],
      "text/plain": [
       "            Industry  Deal_value  Weighted_amount  Date_of_creation  Pitch  \\\n",
       "Deal_title                                                                   \n",
       "TitleAD16O        55    200988.0     1.556917e+06               427      0   \n",
       "TitleOW6CR        30    409961.0     2.541758e+06               698      0   \n",
       "TitleVVJQ5        13    434433.0     3.041031e+06               519      0   \n",
       "TitleUS8NA        69    218952.0     1.521716e+06               385      1   \n",
       "Title5VGWW        95    392835.0     2.455219e+06               610      0   \n",
       "\n",
       "            Fund_category  Geography  Location  POC_name  Designation  \\\n",
       "Deal_title                                                              \n",
       "TitleAD16O              3          0        68      1666            4   \n",
       "TitleOW6CR              2          1       122       220            2   \n",
       "TitleVVJQ5              0          1       409        44            5   \n",
       "TitleUS8NA              0          0        48      1583            1   \n",
       "Title5VGWW              2          1       522       901            2   \n",
       "\n",
       "            Hiring_candidate_role  Lead_source  Last_lead_update  \\\n",
       "Deal_title                                                         \n",
       "TitleAD16O                    151            1                10   \n",
       "TitleOW6CR                    286            1                 9   \n",
       "TitleVVJQ5                    307            1                 3   \n",
       "TitleUS8NA                    115            0                10   \n",
       "Title5VGWW                    615            2                 5   \n",
       "\n",
       "            Internal_POC  Resource  Internal_rating  \\\n",
       "Deal_title                                            \n",
       "TitleAD16O            38         2             -1.0   \n",
       "TitleOW6CR            51         5              1.0   \n",
       "TitleVVJQ5            19         1              5.0   \n",
       "TitleUS8NA            42         2              5.0   \n",
       "Title5VGWW            42         1              2.0   \n",
       "\n",
       "            Lead_revenue_50 - 100 Million  \\\n",
       "Deal_title                                  \n",
       "TitleAD16O                              0   \n",
       "TitleOW6CR                              0   \n",
       "TitleVVJQ5                              0   \n",
       "TitleUS8NA                              0   \n",
       "Title5VGWW                              0   \n",
       "\n",
       "            Lead_revenue_500 Million - 1 Billion  Level_of_meeting_Level 2  \\\n",
       "Deal_title                                                                   \n",
       "TitleAD16O                                     0                         0   \n",
       "TitleOW6CR                                     0                         1   \n",
       "TitleVVJQ5                                     0                         1   \n",
       "TitleUS8NA                                     0                         0   \n",
       "Title5VGWW                                     1                         0   \n",
       "\n",
       "            Level_of_meeting_Level 3  \n",
       "Deal_title                            \n",
       "TitleAD16O                         0  \n",
       "TitleOW6CR                         0  \n",
       "TitleVVJQ5                         0  \n",
       "TitleUS8NA                         1  \n",
       "Title5VGWW                         1  "
      ]
     },
     "execution_count": 256,
     "metadata": {},
     "output_type": "execute_result"
    }
   ],
   "source": [
    "fdata.set_index(\"Deal_title\", inplace=True)\n",
    "fdata.head()"
   ]
  },
  {
   "cell_type": "code",
   "execution_count": 257,
   "id": "regulation-taste",
   "metadata": {},
   "outputs": [],
   "source": [
    "fdata.to_csv(\"final_test1.csv\", index=True)"
   ]
  },
  {
   "cell_type": "code",
   "execution_count": null,
   "id": "numerous-technology",
   "metadata": {},
   "outputs": [],
   "source": []
  }
 ],
 "metadata": {
  "kernelspec": {
   "display_name": "Python [conda env:mlwork] *",
   "language": "python",
   "name": "conda-env-mlwork-py"
  },
  "language_info": {
   "codemirror_mode": {
    "name": "ipython",
    "version": 3
   },
   "file_extension": ".py",
   "mimetype": "text/x-python",
   "name": "python",
   "nbconvert_exporter": "python",
   "pygments_lexer": "ipython3",
   "version": "3.8.5"
  }
 },
 "nbformat": 4,
 "nbformat_minor": 5
}
